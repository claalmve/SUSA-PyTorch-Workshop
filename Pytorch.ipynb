{
 "cells": [
  {
   "cell_type": "markdown",
   "metadata": {},
   "source": [
    "# SUSA PyTorch Workshop\n",
    "## 11/28/18\n",
    "\n",
    "### Hosted by and maintained by the [Statistics Undergraduate Students Association (SUSA)](https://susa.berkeley.edu). Originally authored by [Calvin Chen](mailto:chencalvin99@berkeley.edu), [Samyak Parajuli](mailto:samyak.parajuli@berkeley.edu), and [Johann Sun](mailto:sunjohann@berkeley.edu).\n",
    "\n",
    "### Table of Contents\n",
    "* [What is PyTorch](#what_is_pytorch)\n",
    "    * [Installing PyTorch](#installing_pytorch)\n",
    "    * [Advantages of PyTorch](#advantages_of_pytorch)\n",
    "* [Similarities to Numpy](#similarities_to_numpy)\n",
    "* [GPU](#gpu)\n",
    "* [Classification vs Regression](#class_vs_regress)\n",
    "    * [Recap on Regression](#regress_recap)\n",
    "    * [Some Intuition on Classification](#intuition)\n",
    "        * [Real World Example](#real_world_example)\n",
    "* [k-Nearest Neighbors](#knn)"
   ]
  },
  {
   "cell_type": "markdown",
   "metadata": {},
   "source": [
    "<a id='what_is_pytorch'></a>\n",
    "# What is PyTorch?"
   ]
  },
  {
   "cell_type": "markdown",
   "metadata": {},
   "source": [
    "PyTorch is a library made for the Python programming language as a platform on which to develop deep learning projects and applications. Released in Januuary 2016, it has gained fame for being able to create neural networks with relative ease. Before diving directly into PyTorch, it's important to understand the definition of a deep learning platform, deep learning, neural networks, and how they're connected. In a general sense, Deep Learning is a subset of Machine Learning, which is a subset of the large sphere of Artifical Intelligence."
   ]
  },
  {
   "cell_type": "markdown",
   "metadata": {
    "ExecuteTime": {
     "end_time": "2018-11-27T05:13:48.987690Z",
     "start_time": "2018-11-27T05:13:48.852623Z"
    },
    "collapsed": true
   },
   "source": [
    "![title](img/ai_subsets.jpeg)"
   ]
  },
  {
   "cell_type": "markdown",
   "metadata": {},
   "source": [
    "So, PyTorch would lie somewhere in the most inner circle of the graphic above, as a platform for people to develop Deep Learning models off of. \n",
    "\n",
    "Now, you might be interested in different applications of Neural Networks, and here's a couple that we found that were pretty cool!\n",
    "\n",
    "[Celebrity Faces](https://www.youtube.com/watch?v=36lE9tV9vm0)\n",
    "\n",
    "[Atari Breakout](https://www.youtube.com/watch?v=V1eYniJ0Rnk)"
   ]
  },
  {
   "cell_type": "markdown",
   "metadata": {},
   "source": [
    "To kick things off, we'll begin with downloading PyTorch and getting into the differences between it and other libraries that exist out there!"
   ]
  },
  {
   "cell_type": "markdown",
   "metadata": {},
   "source": [
    "<a id='installing_pytorch'></a>\n",
    "## Installing Pytorch"
   ]
  },
  {
   "cell_type": "markdown",
   "metadata": {},
   "source": [
    "Please install the correct version of Pytorch corresponding to your OS here: [PyTorch](https://pytorch.org/)"
   ]
  },
  {
   "cell_type": "markdown",
   "metadata": {},
   "source": [
    "Now that you've got PyTorch downloaded, let's get into why it's useful, and how it differs from other platforms/packages that do similar things to it out there!"
   ]
  },
  {
   "cell_type": "markdown",
   "metadata": {},
   "source": [
    "<a id='advantages_of_pytorch'></a>\n",
    "## Advantages of PyTorch"
   ]
  },
  {
   "cell_type": "markdown",
   "metadata": {},
   "source": [
    "Simple Interface: It offers easy to use API, thus it is very simple to operate and run like Python.\n",
    "Pythonic in nature: This library, being Pythonic, smoothly integrates with the Python data science stack. Thus it can leverage all the services and functionalities offered by the Python environment.\n",
    "Computational graphs: In addition to this, PyTorch provides an excellent platform which offers dynamic computational graphs, thus you can change them during runtime. This is highly useful when you have no idea how much memory will be required for creating a neural network model."
   ]
  },
  {
   "cell_type": "markdown",
   "metadata": {},
   "source": [
    "So what are the features of PyTorch that makes it so great? Here's a few of the main advantages that PyTorch holds over other Deep Learning platforms (like TensorFlow):\n",
    "* **Built specifically for Python**\n",
    "    * Integrates really smoothly with different Python packages (data visualization)\n",
    "    * Good debugging environment- can just introduce different debugging packages in Python and they integrate smoothly\n",
    "* **Imperative**\n",
    "    * Uses statements to continuously change the program's state\n",
    "    * Does not require for frameworks of code to be developed before being execute; executes on the fly\n",
    "* **Dynamic Computation Graph**\n",
    "    * Defined and manipulated as you code, as compared to static, where you define the graph before you run the model\n",
    "    * Really useful with dynamic inputs- static graphs can only have static input sequences!\n",
    "        * For RNNs, it's incredibly useful to have a dynamic computation graph, as inputs might change in structure over time (we'll get into more of RNNs later and why this is useful!)\n",
    "* **Declarative Data Parallelism**\n",
    "    * Easy to call torch.nn.DataParallel to wrap different modules and split samples into subsets to run computation for these subsets in parallel (provides for better efficiency and speed, and minimal effort to set up)"
   ]
  },
  {
   "cell_type": "markdown",
   "metadata": {},
   "source": [
    "Now that we've been able to see the advantages/specifics of PyTorch from a high level, let's take a look at its implementation in code and how it compares with another famous package in Python- Numpy!"
   ]
  },
  {
   "cell_type": "markdown",
   "metadata": {},
   "source": [
    "<a id='similarities_to_numpy'></a>\n",
    "# Similarities to Numpy"
   ]
  },
  {
   "cell_type": "markdown",
   "metadata": {},
   "source": [
    "Before we can get into any of the coding, we'll need to define what a tensor is in its relation to Deep Learning and coding!\n",
    "\n",
    "To define it generally, a tensor is a basically just an $n$ dimensional object (scalar, vector, matrix). What this means is that a rank 0 tensor can be represented with a 0-dimensional object (a scalar), a rank 1 tensor can be represented with a 1-dimensional object (vector), and a rank 2 tensor can be represented with a 2-dimensional object (matrix). **However, this does not mean that these objects can be represented as tensors!** Tensors have special properties that make them useful in Deep Learning, one being that they're flexible in structure and can take on any arbitrary rank.\n",
    "\n",
    "Another implication with tensors that make them more useful than just vectors or matrices in Deep Learning models are how they can be **variable with relation to the other entities around them**. For example, if you wanted a model to maintain consistent weights despite the fact that different inputs may be transformed, tensors would be able to be replaced with the scalar weights to be able to sustain different transformations while not impacting the outputs!\n",
    "\n",
    "Now, these definitions/usages for tensors may be confusing, but we just wanted to give you a brief glimpse into why it's more useful than just using objects with static dimensions. For the purposes of this notebook, it'll be sufficient to just interpret tensors as \"arrays\", but just know that there are key differences between the two. If you're interested in learning more about the differences between the two, click [here](https://medium.com/@quantumsteinke/whats-the-difference-between-a-matrix-and-a-tensor-4505fbdc576c) to learn more!"
   ]
  },
  {
   "cell_type": "markdown",
   "metadata": {},
   "source": [
    "But enough with all the definitions and English- let's get into coding!"
   ]
  },
  {
   "cell_type": "code",
   "execution_count": 36,
   "metadata": {
    "ExecuteTime": {
     "end_time": "2018-11-27T05:18:20.062179Z",
     "start_time": "2018-11-27T05:18:19.621325Z"
    }
   },
   "outputs": [],
   "source": [
    "import numpy as np\n",
    "import torch"
   ]
  },
  {
   "cell_type": "code",
   "execution_count": 37,
   "metadata": {
    "ExecuteTime": {
     "end_time": "2018-11-27T05:18:20.096057Z",
     "start_time": "2018-11-27T05:18:20.064643Z"
    }
   },
   "outputs": [
    {
     "data": {
      "text/plain": [
       "array([[1., 0., 0.],\n",
       "       [0., 1., 0.],\n",
       "       [0., 0., 1.]])"
      ]
     },
     "execution_count": 37,
     "metadata": {},
     "output_type": "execute_result"
    }
   ],
   "source": [
    "np.eye(3)"
   ]
  },
  {
   "cell_type": "code",
   "execution_count": 40,
   "metadata": {
    "ExecuteTime": {
     "end_time": "2018-11-27T05:18:20.550881Z",
     "start_time": "2018-11-27T05:18:20.545485Z"
    }
   },
   "outputs": [
    {
     "data": {
      "text/plain": [
       "tensor([[1., 0., 0.],\n",
       "        [0., 1., 0.],\n",
       "        [0., 0., 1.]])"
      ]
     },
     "execution_count": 40,
     "metadata": {},
     "output_type": "execute_result"
    }
   ],
   "source": [
    "torch.eye(3)"
   ]
  },
  {
   "cell_type": "code",
   "execution_count": 41,
   "metadata": {
    "ExecuteTime": {
     "end_time": "2018-11-27T05:18:59.504281Z",
     "start_time": "2018-11-27T05:18:59.497933Z"
    }
   },
   "outputs": [
    {
     "data": {
      "text/plain": [
       "array([[0.96498995, 0.26053359, 0.53001272],\n",
       "       [0.56542759, 0.21948031, 0.10098997],\n",
       "       [0.66028063, 0.34336957, 0.58764673],\n",
       "       [0.49277861, 0.32095331, 0.42830881],\n",
       "       [0.37064033, 0.62725371, 0.19902255]])"
      ]
     },
     "execution_count": 41,
     "metadata": {},
     "output_type": "execute_result"
    }
   ],
   "source": [
    "np.random.rand(5,3)"
   ]
  },
  {
   "cell_type": "code",
   "execution_count": 42,
   "metadata": {
    "ExecuteTime": {
     "end_time": "2018-11-27T05:19:00.462125Z",
     "start_time": "2018-11-27T05:19:00.438903Z"
    }
   },
   "outputs": [
    {
     "data": {
      "text/plain": [
       "tensor([[0.0542, 0.2257, 0.3019],\n",
       "        [0.3522, 0.7485, 0.2319],\n",
       "        [0.5271, 0.4625, 0.5110],\n",
       "        [0.9013, 0.1109, 0.3437],\n",
       "        [0.6411, 0.3683, 0.0146]])"
      ]
     },
     "execution_count": 42,
     "metadata": {},
     "output_type": "execute_result"
    }
   ],
   "source": [
    "torch.rand((5, 3))"
   ]
  },
  {
   "cell_type": "code",
   "execution_count": 43,
   "metadata": {
    "ExecuteTime": {
     "end_time": "2018-11-27T05:21:02.920036Z",
     "start_time": "2018-11-27T05:21:02.914543Z"
    }
   },
   "outputs": [
    {
     "data": {
      "text/plain": [
       "tensor([[2., 1., 1.],\n",
       "        [1., 2., 1.],\n",
       "        [1., 1., 2.]])"
      ]
     },
     "execution_count": 43,
     "metadata": {},
     "output_type": "execute_result"
    }
   ],
   "source": [
    "A = torch.eye(3)\n",
    "A.add(1)"
   ]
  },
  {
   "cell_type": "code",
   "execution_count": 17,
   "metadata": {},
   "outputs": [
    {
     "data": {
      "text/plain": [
       "tensor([[3., 2., 2.],\n",
       "        [2., 3., 2.],\n",
       "        [2., 2., 3.]])"
      ]
     },
     "execution_count": 17,
     "metadata": {},
     "output_type": "execute_result"
    }
   ],
   "source": [
    "A"
   ]
  },
  {
   "cell_type": "code",
   "execution_count": 14,
   "metadata": {
    "ExecuteTime": {
     "end_time": "2018-11-27T05:22:23.494698Z",
     "start_time": "2018-11-27T05:22:23.488406Z"
    }
   },
   "outputs": [
    {
     "data": {
      "text/plain": [
       "tensor([[2., 2.],\n",
       "        [2., 2.]])"
      ]
     },
     "execution_count": 14,
     "metadata": {},
     "output_type": "execute_result"
    }
   ],
   "source": [
    "t1 = torch.ones(2, 2)\n",
    "t2 = torch.ones(2, 2)\n",
    "t = t1 + t2\n",
    "t"
   ]
  },
  {
   "cell_type": "code",
   "execution_count": 15,
   "metadata": {
    "ExecuteTime": {
     "end_time": "2018-11-27T05:22:23.764738Z",
     "start_time": "2018-11-27T05:22:23.757874Z"
    }
   },
   "outputs": [
    {
     "data": {
      "text/plain": [
       "tensor([[2., 1., 1.],\n",
       "        [1., 2., 1.],\n",
       "        [1., 1., 2.]])"
      ]
     },
     "execution_count": 15,
     "metadata": {},
     "output_type": "execute_result"
    }
   ],
   "source": [
    "A = torch.eye(3)\n",
    "A.add(1)"
   ]
  },
  {
   "cell_type": "code",
   "execution_count": 16,
   "metadata": {
    "ExecuteTime": {
     "end_time": "2018-11-27T05:22:24.444486Z",
     "start_time": "2018-11-27T05:22:24.439872Z"
    }
   },
   "outputs": [
    {
     "data": {
      "text/plain": [
       "tensor([[1., 0., 0.],\n",
       "        [0., 1., 0.],\n",
       "        [0., 0., 1.]])"
      ]
     },
     "execution_count": 16,
     "metadata": {},
     "output_type": "execute_result"
    }
   ],
   "source": [
    "A"
   ]
  },
  {
   "cell_type": "markdown",
   "metadata": {},
   "source": [
    "Underscore means inplace operation"
   ]
  },
  {
   "cell_type": "code",
   "execution_count": 15,
   "metadata": {},
   "outputs": [
    {
     "data": {
      "text/plain": [
       "tensor([[3., 2., 2.],\n",
       "        [2., 3., 2.],\n",
       "        [2., 2., 3.]])"
      ]
     },
     "execution_count": 15,
     "metadata": {},
     "output_type": "execute_result"
    }
   ],
   "source": [
    "A.add_(1)"
   ]
  },
  {
   "cell_type": "code",
   "execution_count": 16,
   "metadata": {},
   "outputs": [
    {
     "data": {
      "text/plain": [
       "tensor([[3., 2., 2.],\n",
       "        [2., 3., 2.],\n",
       "        [2., 2., 3.]])"
      ]
     },
     "execution_count": 16,
     "metadata": {},
     "output_type": "execute_result"
    }
   ],
   "source": [
    "A"
   ]
  },
  {
   "cell_type": "markdown",
   "metadata": {},
   "source": [
    "#### Converting from Pytorch to Numpy"
   ]
  },
  {
   "cell_type": "markdown",
   "metadata": {},
   "source": [
    "Converting from numpy to torch, allows us to build upon existing architecture"
   ]
  },
  {
   "cell_type": "code",
   "execution_count": 22,
   "metadata": {},
   "outputs": [
    {
     "data": {
      "text/plain": [
       "tensor([[1., 0., 0.],\n",
       "        [0., 1., 0.],\n",
       "        [0., 0., 1.]])"
      ]
     },
     "execution_count": 22,
     "metadata": {},
     "output_type": "execute_result"
    }
   ],
   "source": [
    "A = torch.eye(3)\n",
    "A"
   ]
  },
  {
   "cell_type": "code",
   "execution_count": 23,
   "metadata": {},
   "outputs": [
    {
     "data": {
      "text/plain": [
       "array([[1., 0., 0.],\n",
       "       [0., 1., 0.],\n",
       "       [0., 0., 1.]], dtype=float32)"
      ]
     },
     "execution_count": 23,
     "metadata": {},
     "output_type": "execute_result"
    }
   ],
   "source": [
    "A.numpy()"
   ]
  },
  {
   "cell_type": "code",
   "execution_count": 24,
   "metadata": {},
   "outputs": [
    {
     "data": {
      "text/plain": [
       "tensor([[1., 0., 0.],\n",
       "        [0., 1., 0.],\n",
       "        [0., 0., 1.]], dtype=torch.float64)"
      ]
     },
     "execution_count": 24,
     "metadata": {},
     "output_type": "execute_result"
    }
   ],
   "source": [
    "torch.from_numpy(np.eye(3))"
   ]
  },
  {
   "cell_type": "markdown",
   "metadata": {},
   "source": [
    "<a id='gpu'></a>\n",
    "# GPU"
   ]
  },
  {
   "cell_type": "markdown",
   "metadata": {},
   "source": [
    "GPUs have many processing units but limited memory. Also, they can only use data in their own memory, not in the CPU's memory, so one must transfer data back \n",
    "and forth between the CPU and the GPU. This copying can, in some computations, constitute a very large fraction of the overall \n",
    "computation. So it is best to create the data and/or leave the data (for subsequent calculations) on the GPU when possible and to limit transfers."
   ]
  },
  {
   "cell_type": "code",
   "execution_count": 45,
   "metadata": {},
   "outputs": [
    {
     "data": {
      "text/plain": [
       "device(type='cpu')"
      ]
     },
     "execution_count": 45,
     "metadata": {},
     "output_type": "execute_result"
    }
   ],
   "source": [
    "#If you have a GPU you should get something like:  device(type='cuda', index=0)\n",
    "#You can move data to the GPU by doing .to(device)\n",
    "device = torch.device(\"cuda:0\" if torch.cuda.is_available() else \"cpu\")\n",
    "device"
   ]
  },
  {
   "cell_type": "code",
   "execution_count": 47,
   "metadata": {},
   "outputs": [
    {
     "data": {
      "text/plain": [
       "tensor([[1., 0., 0.],\n",
       "        [0., 1., 0.],\n",
       "        [0., 0., 1.]])"
      ]
     },
     "execution_count": 47,
     "metadata": {},
     "output_type": "execute_result"
    }
   ],
   "source": [
    "data = torch.eye(3)\n",
    "data.to(device)"
   ]
  },
  {
   "cell_type": "markdown",
   "metadata": {},
   "source": [
    "<a id='liner_regression_example'></a>\n",
    "# Linear Regression example"
   ]
  },
  {
   "cell_type": "code",
   "execution_count": 18,
   "metadata": {},
   "outputs": [],
   "source": [
    "from sklearn.datasets import make_regression\n",
    "import matplotlib.pyplot as plt\n",
    "%matplotlib inline"
   ]
  },
  {
   "cell_type": "code",
   "execution_count": 19,
   "metadata": {},
   "outputs": [
    {
     "data": {
      "image/png": "[encoded data removed]",
      "text/plain": [
       "<Figure size 432x288 with 1 Axes>"
      ]
     },
     "metadata": {},
     "output_type": "display_data"
    }
   ],
   "source": [
    "n_features = 1\n",
    "n_samples = 100\n",
    "\n",
    "X, y = make_regression(\n",
    "    n_samples=n_samples,\n",
    "    n_features=n_features,\n",
    "    noise=10,\n",
    ")\n",
    "\n",
    "fix, ax = plt.subplots()\n",
    "ax.plot(X, y, \".\");"
   ]
  },
  {
   "cell_type": "code",
   "execution_count": 137,
   "metadata": {},
   "outputs": [],
   "source": [
    "w = 1  # a random guess: random value\n",
    "\n",
    "# our model forward pass\n",
    "\n",
    "def forward(x):\n",
    "    return x * w\n",
    "\n",
    "# Loss function\n",
    "def loss(x, y):\n",
    "    y_pred = forward(x)\n",
    "    return (y_pred - y) ** 2\n",
    "\n",
    "# compute gradient\n",
    "def gradient(x, y):  # d_loss/d_w\n",
    "    return 2 * x * (x * w - y)\n",
    "\n",
    "# Training loop\n",
    "for epoch in range(10):\n",
    "    for x_val, y_val in zip(X, y):\n",
    "        grad = gradient(x_val, y_val)\n",
    "        w = w - 0.01 * grad\n",
    "        #print(\"\\tgrad: \", X, y, np.round(grad, 2))\n",
    "        l = loss(x_val, y_val)\n",
    "\n",
    "# After training\n",
    "y_ = forward(X)\n",
    "#print(y_)"
   ]
  },
  {
   "cell_type": "code",
   "execution_count": 138,
   "metadata": {
    "scrolled": true
   },
   "outputs": [
    {
     "data": {
      "image/png": "[encoded data removed]",
      "text/plain": [
       "<Figure size 432x288 with 1 Axes>"
      ]
     },
     "metadata": {
      "needs_background": "light"
     },
     "output_type": "display_data"
    }
   ],
   "source": [
    "# Vis\n",
    "fig, ax = plt.subplots()\n",
    "ax.plot(X, y_, \".\", label=\"pred\")\n",
    "ax.plot(X, y, \".\", label=\"data\")\n",
    "ax.set_title(\"MSE: {loss.item():0.1f}\")\n",
    "ax.legend();"
   ]
  },
  {
   "cell_type": "markdown",
   "metadata": {},
   "source": [
    "<a id='auto_grad'></a>\n",
    "# Autograd"
   ]
  },
  {
   "cell_type": "markdown",
   "metadata": {},
   "source": [
    "Every Tensor has a flag: requires_grad that allows for fine grained exclusion of subgraphs from gradient computation and can increase efficiency"
   ]
  },
  {
   "cell_type": "code",
   "execution_count": 25,
   "metadata": {
    "ExecuteTime": {
     "end_time": "2018-11-27T05:26:46.858149Z",
     "start_time": "2018-11-27T05:26:46.853092Z"
    }
   },
   "outputs": [
    {
     "data": {
      "text/plain": [
       "False"
      ]
     },
     "execution_count": 25,
     "metadata": {},
     "output_type": "execute_result"
    }
   ],
   "source": [
    "w = torch.ones(1)\n",
    "w.requires_grad"
   ]
  },
  {
   "cell_type": "code",
   "execution_count": 26,
   "metadata": {},
   "outputs": [
    {
     "data": {
      "text/plain": [
       "torch.Tensor"
      ]
     },
     "execution_count": 26,
     "metadata": {},
     "output_type": "execute_result"
    }
   ],
   "source": [
    "type(w)"
   ]
  },
  {
   "cell_type": "code",
   "execution_count": 27,
   "metadata": {},
   "outputs": [
    {
     "data": {
      "text/plain": [
       "False"
      ]
     },
     "execution_count": 27,
     "metadata": {},
     "output_type": "execute_result"
    }
   ],
   "source": [
    "z = torch.ones(1) * 2\n",
    "z.requires_grad"
   ]
  },
  {
   "cell_type": "code",
   "execution_count": 28,
   "metadata": {},
   "outputs": [
    {
     "data": {
      "text/plain": [
       "tensor([3.])"
      ]
     },
     "execution_count": 28,
     "metadata": {},
     "output_type": "execute_result"
    }
   ],
   "source": [
    "total = w + z\n",
    "total"
   ]
  },
  {
   "cell_type": "code",
   "execution_count": 29,
   "metadata": {},
   "outputs": [
    {
     "ename": "RuntimeError",
     "evalue": "element 0 of tensors does not require grad and does not have a grad_fn",
     "output_type": "error",
     "traceback": [
      "\u001b[0;31m---------------------------------------------------------------------------\u001b[0m",
      "\u001b[0;31mRuntimeError\u001b[0m                              Traceback (most recent call last)",
      "\u001b[0;32m<ipython-input-29-fb606bf656ee>\u001b[0m in \u001b[0;36m<module>\u001b[0;34m()\u001b[0m\n\u001b[0;32m----> 1\u001b[0;31m \u001b[0mtotal\u001b[0m\u001b[0;34m.\u001b[0m\u001b[0mbackward\u001b[0m\u001b[0;34m(\u001b[0m\u001b[0;34m)\u001b[0m\u001b[0;34m\u001b[0m\u001b[0m\n\u001b[0m",
      "\u001b[0;32m~/anaconda3/lib/python3.6/site-packages/torch/tensor.py\u001b[0m in \u001b[0;36mbackward\u001b[0;34m(self, gradient, retain_graph, create_graph)\u001b[0m\n\u001b[1;32m     91\u001b[0m                 \u001b[0mproducts\u001b[0m\u001b[0;34m.\u001b[0m \u001b[0mDefaults\u001b[0m \u001b[0mto\u001b[0m\u001b[0;31m \u001b[0m\u001b[0;31m`\u001b[0m\u001b[0;31m`\u001b[0m\u001b[0;32mFalse\u001b[0m\u001b[0;31m`\u001b[0m\u001b[0;31m`\u001b[0m\u001b[0;34m.\u001b[0m\u001b[0;34m\u001b[0m\u001b[0m\n\u001b[1;32m     92\u001b[0m         \"\"\"\n\u001b[0;32m---> 93\u001b[0;31m         \u001b[0mtorch\u001b[0m\u001b[0;34m.\u001b[0m\u001b[0mautograd\u001b[0m\u001b[0;34m.\u001b[0m\u001b[0mbackward\u001b[0m\u001b[0;34m(\u001b[0m\u001b[0mself\u001b[0m\u001b[0;34m,\u001b[0m \u001b[0mgradient\u001b[0m\u001b[0;34m,\u001b[0m \u001b[0mretain_graph\u001b[0m\u001b[0;34m,\u001b[0m \u001b[0mcreate_graph\u001b[0m\u001b[0;34m)\u001b[0m\u001b[0;34m\u001b[0m\u001b[0m\n\u001b[0m\u001b[1;32m     94\u001b[0m \u001b[0;34m\u001b[0m\u001b[0m\n\u001b[1;32m     95\u001b[0m     \u001b[0;32mdef\u001b[0m \u001b[0mregister_hook\u001b[0m\u001b[0;34m(\u001b[0m\u001b[0mself\u001b[0m\u001b[0;34m,\u001b[0m \u001b[0mhook\u001b[0m\u001b[0;34m)\u001b[0m\u001b[0;34m:\u001b[0m\u001b[0;34m\u001b[0m\u001b[0m\n",
      "\u001b[0;32m~/anaconda3/lib/python3.6/site-packages/torch/autograd/__init__.py\u001b[0m in \u001b[0;36mbackward\u001b[0;34m(tensors, grad_tensors, retain_graph, create_graph, grad_variables)\u001b[0m\n\u001b[1;32m     88\u001b[0m     Variable._execution_engine.run_backward(\n\u001b[1;32m     89\u001b[0m         \u001b[0mtensors\u001b[0m\u001b[0;34m,\u001b[0m \u001b[0mgrad_tensors\u001b[0m\u001b[0;34m,\u001b[0m \u001b[0mretain_graph\u001b[0m\u001b[0;34m,\u001b[0m \u001b[0mcreate_graph\u001b[0m\u001b[0;34m,\u001b[0m\u001b[0;34m\u001b[0m\u001b[0m\n\u001b[0;32m---> 90\u001b[0;31m         allow_unreachable=True)  # allow_unreachable flag\n\u001b[0m\u001b[1;32m     91\u001b[0m \u001b[0;34m\u001b[0m\u001b[0m\n\u001b[1;32m     92\u001b[0m \u001b[0;34m\u001b[0m\u001b[0m\n",
      "\u001b[0;31mRuntimeError\u001b[0m: element 0 of tensors does not require grad and does not have a grad_fn"
     ]
    }
   ],
   "source": [
    "total.backward()"
   ]
  },
  {
   "cell_type": "code",
   "execution_count": null,
   "metadata": {},
   "outputs": [],
   "source": [
    "w = torch.ones(1, requires_grad=True)\n",
    "w.requires_grad"
   ]
  },
  {
   "cell_type": "code",
   "execution_count": null,
   "metadata": {},
   "outputs": [],
   "source": [
    "total = w**2 + z\n",
    "total.requires_grad"
   ]
  },
  {
   "cell_type": "code",
   "execution_count": null,
   "metadata": {},
   "outputs": [],
   "source": [
    "w"
   ]
  },
  {
   "cell_type": "code",
   "execution_count": null,
   "metadata": {},
   "outputs": [],
   "source": [
    "total.backward()"
   ]
  },
  {
   "cell_type": "code",
   "execution_count": 30,
   "metadata": {},
   "outputs": [
    {
     "name": "stdout",
     "output_type": "stream",
     "text": [
      "None\n"
     ]
    }
   ],
   "source": [
    "print(w.grad)"
   ]
  },
  {
   "cell_type": "code",
   "execution_count": 31,
   "metadata": {},
   "outputs": [
    {
     "data": {
      "text/plain": [
       "False"
      ]
     },
     "execution_count": 31,
     "metadata": {},
     "output_type": "execute_result"
    }
   ],
   "source": [
    "with torch.no_grad():\n",
    "    total = w + z\n",
    "\n",
    "total.requires_grad"
   ]
  },
  {
   "cell_type": "markdown",
   "metadata": {},
   "source": [
    "<a id='linear_regression_pytorch'></a>\n",
    "# Linear Regression (Pytorch Way)"
   ]
  },
  {
   "cell_type": "code",
   "execution_count": 27,
   "metadata": {},
   "outputs": [],
   "source": [
    "X = torch.from_numpy(X).float()\n",
    "y = torch.from_numpy(y.reshape((n_samples, n_features))).float()"
   ]
  },
  {
   "cell_type": "code",
   "execution_count": 28,
   "metadata": {},
   "outputs": [],
   "source": [
    "from torch import nn\n",
    "from torch import optim\n",
    "\n",
    "class LinReg(nn.Module):\n",
    "    def __init__(self, input_dim):\n",
    "        super().__init__()\n",
    "        self.beta = nn.Linear(input_dim, 1)\n",
    "        self.beta.weight.data.fill_(1)\n",
    "\n",
    "        \n",
    "    def forward(self, X):\n",
    "        return self.beta(X)"
   ]
  },
  {
   "cell_type": "code",
   "execution_count": 29,
   "metadata": {},
   "outputs": [],
   "source": [
    "device = torch.device(\"cuda:0\" if torch.cuda.is_available() else \"cpu\")\n",
    "\n",
    "model = LinReg(n_features).to(device)  # <-- Calculations will happen on the GPU\n",
    "optimizer = optim.SGD(model.parameters(), lr=0.1)\n",
    "criterion = nn.MSELoss()\n",
    "\n",
    "X, y = X.to(device), y.to(device)"
   ]
  },
  {
   "cell_type": "code",
   "execution_count": 30,
   "metadata": {},
   "outputs": [],
   "source": [
    "# Train step\n",
    "for _ in range(10):\n",
    "    model.train() # Puts model in train mode\n",
    "    optimizer.zero_grad() # Need to null the gradient, otherwise it will accumulate over time\n",
    "\n",
    "    y_ = model(X) # Pass data into model and get prediction\n",
    "    loss = criterion(y_, y) # calculate mse loss\n",
    "    loss.backward() # Calculate gradients\n",
    "    optimizer.step() # Update the parameter\n",
    "\n",
    "# Eval\n",
    "model.eval()\n",
    "with torch.no_grad(): #<- Not interested in gradients\n",
    "    y_ = model(X)    "
   ]
  },
  {
   "cell_type": "code",
   "execution_count": 31,
   "metadata": {},
   "outputs": [
    {
     "data": {
      "image/png": "[encoded data removed]",
      "text/plain": [
       "<Figure size 432x288 with 1 Axes>"
      ]
     },
     "metadata": {},
     "output_type": "display_data"
    }
   ],
   "source": [
    "# Vis\n",
    "fig, ax = plt.subplots()\n",
    "ax.plot(X.cpu().numpy(), y_.cpu().numpy(), \".\", label=\"pred\")\n",
    "ax.plot(X.cpu().numpy(), y.cpu().numpy(), \".\", label=\"data\")\n",
    "ax.set_title(\"MSE: {loss.item():0.1f}\")\n",
    "ax.legend();"
   ]
  },
  {
   "cell_type": "markdown",
   "metadata": {},
   "source": [
    "<a id='neural_network'></a>\n",
    "# Neural Network Implementation with MNIST"
   ]
  },
  {
   "cell_type": "code",
   "execution_count": 32,
   "metadata": {},
   "outputs": [
    {
     "name": "stdout",
     "output_type": "stream",
     "text": [
      "Downloading http://yann.lecun.com/exdb/mnist/train-images-idx3-ubyte.gz\n",
      "Downloading http://yann.lecun.com/exdb/mnist/train-labels-idx1-ubyte.gz\n",
      "Downloading http://yann.lecun.com/exdb/mnist/t10k-images-idx3-ubyte.gz\n",
      "Downloading http://yann.lecun.com/exdb/mnist/t10k-labels-idx1-ubyte.gz\n",
      "Processing...\n",
      "Done!\n",
      "Train Epoch: 1 [0/60000 (0%)]\tLoss: 2.303662\n"
     ]
    },
    {
     "name": "stderr",
     "output_type": "stream",
     "text": [
      "/Users/calvin/anaconda3/lib/python3.6/site-packages/ipykernel_launcher.py:69: UserWarning: invalid index of a 0-dim tensor. This will be an error in PyTorch 0.5. Use tensor.item() to convert a 0-dim tensor to a Python number\n"
     ]
    },
    {
     "name": "stdout",
     "output_type": "stream",
     "text": [
      "Train Epoch: 1 [640/60000 (1%)]\tLoss: 2.303379\n",
      "Train Epoch: 1 [1280/60000 (2%)]\tLoss: 2.298976\n",
      "Train Epoch: 1 [1920/60000 (3%)]\tLoss: 2.302488\n",
      "Train Epoch: 1 [2560/60000 (4%)]\tLoss: 2.301148\n",
      "Train Epoch: 1 [3200/60000 (5%)]\tLoss: 2.306086\n",
      "Train Epoch: 1 [3840/60000 (6%)]\tLoss: 2.307215\n",
      "Train Epoch: 1 [4480/60000 (7%)]\tLoss: 2.300955\n",
      "Train Epoch: 1 [5120/60000 (9%)]\tLoss: 2.310881\n",
      "Train Epoch: 1 [5760/60000 (10%)]\tLoss: 2.293291\n",
      "Train Epoch: 1 [6400/60000 (11%)]\tLoss: 2.290688\n",
      "Train Epoch: 1 [7040/60000 (12%)]\tLoss: 2.319289\n",
      "Train Epoch: 1 [7680/60000 (13%)]\tLoss: 2.303837\n",
      "Train Epoch: 1 [8320/60000 (14%)]\tLoss: 2.302586\n",
      "Train Epoch: 1 [8960/60000 (15%)]\tLoss: 2.308828\n",
      "Train Epoch: 1 [9600/60000 (16%)]\tLoss: 2.305709\n",
      "Train Epoch: 1 [10240/60000 (17%)]\tLoss: 2.307690\n",
      "Train Epoch: 1 [10880/60000 (18%)]\tLoss: 2.283756\n",
      "Train Epoch: 1 [11520/60000 (19%)]\tLoss: 2.300191\n",
      "Train Epoch: 1 [12160/60000 (20%)]\tLoss: 2.300406\n",
      "Train Epoch: 1 [12800/60000 (21%)]\tLoss: 2.284857\n",
      "Train Epoch: 1 [13440/60000 (22%)]\tLoss: 2.295779\n",
      "Train Epoch: 1 [14080/60000 (23%)]\tLoss: 2.305052\n",
      "Train Epoch: 1 [14720/60000 (25%)]\tLoss: 2.290446\n",
      "Train Epoch: 1 [15360/60000 (26%)]\tLoss: 2.299261\n",
      "Train Epoch: 1 [16000/60000 (27%)]\tLoss: 2.293176\n",
      "Train Epoch: 1 [16640/60000 (28%)]\tLoss: 2.290493\n",
      "Train Epoch: 1 [17280/60000 (29%)]\tLoss: 2.286940\n",
      "Train Epoch: 1 [17920/60000 (30%)]\tLoss: 2.294491\n",
      "Train Epoch: 1 [18560/60000 (31%)]\tLoss: 2.292125\n",
      "Train Epoch: 1 [19200/60000 (32%)]\tLoss: 2.287814\n",
      "Train Epoch: 1 [19840/60000 (33%)]\tLoss: 2.290705\n",
      "Train Epoch: 1 [20480/60000 (34%)]\tLoss: 2.297337\n",
      "Train Epoch: 1 [21120/60000 (35%)]\tLoss: 2.296347\n",
      "Train Epoch: 1 [21760/60000 (36%)]\tLoss: 2.288836\n",
      "Train Epoch: 1 [22400/60000 (37%)]\tLoss: 2.275997\n",
      "Train Epoch: 1 [23040/60000 (38%)]\tLoss: 2.290298\n",
      "Train Epoch: 1 [23680/60000 (39%)]\tLoss: 2.292607\n",
      "Train Epoch: 1 [24320/60000 (41%)]\tLoss: 2.287780\n",
      "Train Epoch: 1 [24960/60000 (42%)]\tLoss: 2.278872\n",
      "Train Epoch: 1 [25600/60000 (43%)]\tLoss: 2.282593\n",
      "Train Epoch: 1 [26240/60000 (44%)]\tLoss: 2.285764\n",
      "Train Epoch: 1 [26880/60000 (45%)]\tLoss: 2.280637\n",
      "Train Epoch: 1 [27520/60000 (46%)]\tLoss: 2.282995\n",
      "Train Epoch: 1 [28160/60000 (47%)]\tLoss: 2.273337\n",
      "Train Epoch: 1 [28800/60000 (48%)]\tLoss: 2.281275\n",
      "Train Epoch: 1 [29440/60000 (49%)]\tLoss: 2.280265\n",
      "Train Epoch: 1 [30080/60000 (50%)]\tLoss: 2.288963\n",
      "Train Epoch: 1 [30720/60000 (51%)]\tLoss: 2.279900\n",
      "Train Epoch: 1 [31360/60000 (52%)]\tLoss: 2.278026\n",
      "Train Epoch: 1 [32000/60000 (53%)]\tLoss: 2.276153\n",
      "Train Epoch: 1 [32640/60000 (54%)]\tLoss: 2.273198\n",
      "Train Epoch: 1 [33280/60000 (55%)]\tLoss: 2.267993\n",
      "Train Epoch: 1 [33920/60000 (57%)]\tLoss: 2.272086\n",
      "Train Epoch: 1 [34560/60000 (58%)]\tLoss: 2.264558\n",
      "Train Epoch: 1 [35200/60000 (59%)]\tLoss: 2.261421\n",
      "Train Epoch: 1 [35840/60000 (60%)]\tLoss: 2.258605\n",
      "Train Epoch: 1 [36480/60000 (61%)]\tLoss: 2.255226\n",
      "Train Epoch: 1 [37120/60000 (62%)]\tLoss: 2.270460\n",
      "Train Epoch: 1 [37760/60000 (63%)]\tLoss: 2.259447\n",
      "Train Epoch: 1 [38400/60000 (64%)]\tLoss: 2.261926\n",
      "Train Epoch: 1 [39040/60000 (65%)]\tLoss: 2.260115\n",
      "Train Epoch: 1 [39680/60000 (66%)]\tLoss: 2.239270\n",
      "Train Epoch: 1 [40320/60000 (67%)]\tLoss: 2.248965\n",
      "Train Epoch: 1 [40960/60000 (68%)]\tLoss: 2.225806\n",
      "Train Epoch: 1 [41600/60000 (69%)]\tLoss: 2.240747\n",
      "Train Epoch: 1 [42240/60000 (70%)]\tLoss: 2.211023\n",
      "Train Epoch: 1 [42880/60000 (71%)]\tLoss: 2.211748\n",
      "Train Epoch: 1 [43520/60000 (72%)]\tLoss: 2.210394\n",
      "Train Epoch: 1 [44160/60000 (74%)]\tLoss: 2.191445\n",
      "Train Epoch: 1 [44800/60000 (75%)]\tLoss: 2.187142\n",
      "Train Epoch: 1 [45440/60000 (76%)]\tLoss: 2.167234\n",
      "Train Epoch: 1 [46080/60000 (77%)]\tLoss: 2.151489\n",
      "Train Epoch: 1 [46720/60000 (78%)]\tLoss: 2.177588\n",
      "Train Epoch: 1 [47360/60000 (79%)]\tLoss: 2.195252\n",
      "Train Epoch: 1 [48000/60000 (80%)]\tLoss: 2.149153\n",
      "Train Epoch: 1 [48640/60000 (81%)]\tLoss: 2.141044\n",
      "Train Epoch: 1 [49280/60000 (82%)]\tLoss: 2.108296\n",
      "Train Epoch: 1 [49920/60000 (83%)]\tLoss: 2.079626\n",
      "Train Epoch: 1 [50560/60000 (84%)]\tLoss: 2.075534\n",
      "Train Epoch: 1 [51200/60000 (85%)]\tLoss: 2.102612\n",
      "Train Epoch: 1 [51840/60000 (86%)]\tLoss: 2.018664\n",
      "Train Epoch: 1 [52480/60000 (87%)]\tLoss: 1.956069\n",
      "Train Epoch: 1 [53120/60000 (88%)]\tLoss: 1.947575\n",
      "Train Epoch: 1 [53760/60000 (90%)]\tLoss: 1.890967\n",
      "Train Epoch: 1 [54400/60000 (91%)]\tLoss: 1.841105\n",
      "Train Epoch: 1 [55040/60000 (92%)]\tLoss: 1.833955\n",
      "Train Epoch: 1 [55680/60000 (93%)]\tLoss: 1.855979\n",
      "Train Epoch: 1 [56320/60000 (94%)]\tLoss: 1.852159\n",
      "Train Epoch: 1 [56960/60000 (95%)]\tLoss: 1.666714\n",
      "Train Epoch: 1 [57600/60000 (96%)]\tLoss: 1.705461\n",
      "Train Epoch: 1 [58240/60000 (97%)]\tLoss: 1.561478\n",
      "Train Epoch: 1 [58880/60000 (98%)]\tLoss: 1.564583\n",
      "Train Epoch: 1 [59520/60000 (99%)]\tLoss: 1.519873\n"
     ]
    },
    {
     "name": "stderr",
     "output_type": "stream",
     "text": [
      "/Users/calvin/anaconda3/lib/python3.6/site-packages/ipykernel_launcher.py:77: UserWarning: volatile was removed and now has no effect. Use `with torch.no_grad():` instead.\n",
      "/Users/calvin/anaconda3/lib/python3.6/site-packages/ipykernel_launcher.py:80: UserWarning: invalid index of a 0-dim tensor. This will be an error in PyTorch 0.5. Use tensor.item() to convert a 0-dim tensor to a Python number\n"
     ]
    },
    {
     "name": "stdout",
     "output_type": "stream",
     "text": [
      "\n",
      "Test set: Average loss: 0.0231, Accuracy: 5073/10000 (50%)\n",
      "\n",
      "Train Epoch: 2 [0/60000 (0%)]\tLoss: 1.474696\n",
      "Train Epoch: 2 [640/60000 (1%)]\tLoss: 1.392233\n",
      "Train Epoch: 2 [1280/60000 (2%)]\tLoss: 1.454554\n",
      "Train Epoch: 2 [1920/60000 (3%)]\tLoss: 1.255085\n",
      "Train Epoch: 2 [2560/60000 (4%)]\tLoss: 1.281534\n",
      "Train Epoch: 2 [3200/60000 (5%)]\tLoss: 1.360458\n",
      "Train Epoch: 2 [3840/60000 (6%)]\tLoss: 1.215719\n",
      "Train Epoch: 2 [4480/60000 (7%)]\tLoss: 1.149964\n",
      "Train Epoch: 2 [5120/60000 (9%)]\tLoss: 1.196114\n",
      "Train Epoch: 2 [5760/60000 (10%)]\tLoss: 1.048898\n",
      "Train Epoch: 2 [6400/60000 (11%)]\tLoss: 1.227630\n",
      "Train Epoch: 2 [7040/60000 (12%)]\tLoss: 1.057390\n",
      "Train Epoch: 2 [7680/60000 (13%)]\tLoss: 1.021081\n",
      "Train Epoch: 2 [8320/60000 (14%)]\tLoss: 0.983530\n",
      "Train Epoch: 2 [8960/60000 (15%)]\tLoss: 0.965556\n",
      "Train Epoch: 2 [9600/60000 (16%)]\tLoss: 1.021137\n",
      "Train Epoch: 2 [10240/60000 (17%)]\tLoss: 1.058683\n",
      "Train Epoch: 2 [10880/60000 (18%)]\tLoss: 0.848543\n",
      "Train Epoch: 2 [11520/60000 (19%)]\tLoss: 0.990776\n",
      "Train Epoch: 2 [12160/60000 (20%)]\tLoss: 0.789379\n",
      "Train Epoch: 2 [12800/60000 (21%)]\tLoss: 0.735964\n",
      "Train Epoch: 2 [13440/60000 (22%)]\tLoss: 0.915260\n",
      "Train Epoch: 2 [14080/60000 (23%)]\tLoss: 0.928270\n",
      "Train Epoch: 2 [14720/60000 (25%)]\tLoss: 0.709915\n",
      "Train Epoch: 2 [15360/60000 (26%)]\tLoss: 0.774893\n",
      "Train Epoch: 2 [16000/60000 (27%)]\tLoss: 0.732084\n",
      "Train Epoch: 2 [16640/60000 (28%)]\tLoss: 0.808970\n",
      "Train Epoch: 2 [17280/60000 (29%)]\tLoss: 0.603320\n",
      "Train Epoch: 2 [17920/60000 (30%)]\tLoss: 0.677046\n",
      "Train Epoch: 2 [18560/60000 (31%)]\tLoss: 0.647688\n",
      "Train Epoch: 2 [19200/60000 (32%)]\tLoss: 0.605112\n",
      "Train Epoch: 2 [19840/60000 (33%)]\tLoss: 0.656732\n",
      "Train Epoch: 2 [20480/60000 (34%)]\tLoss: 0.553743\n",
      "Train Epoch: 2 [21120/60000 (35%)]\tLoss: 0.883675\n",
      "Train Epoch: 2 [21760/60000 (36%)]\tLoss: 0.449633\n",
      "Train Epoch: 2 [22400/60000 (37%)]\tLoss: 0.559687\n",
      "Train Epoch: 2 [23040/60000 (38%)]\tLoss: 0.632501\n",
      "Train Epoch: 2 [23680/60000 (39%)]\tLoss: 0.454299\n",
      "Train Epoch: 2 [24320/60000 (41%)]\tLoss: 0.569083\n",
      "Train Epoch: 2 [24960/60000 (42%)]\tLoss: 0.556335\n",
      "Train Epoch: 2 [25600/60000 (43%)]\tLoss: 0.729582\n",
      "Train Epoch: 2 [26240/60000 (44%)]\tLoss: 0.483217\n",
      "Train Epoch: 2 [26880/60000 (45%)]\tLoss: 0.500009\n",
      "Train Epoch: 2 [27520/60000 (46%)]\tLoss: 0.684321\n",
      "Train Epoch: 2 [28160/60000 (47%)]\tLoss: 0.538008\n",
      "Train Epoch: 2 [28800/60000 (48%)]\tLoss: 0.495865\n",
      "Train Epoch: 2 [29440/60000 (49%)]\tLoss: 0.579792\n",
      "Train Epoch: 2 [30080/60000 (50%)]\tLoss: 0.591760\n",
      "Train Epoch: 2 [30720/60000 (51%)]\tLoss: 0.464775\n",
      "Train Epoch: 2 [31360/60000 (52%)]\tLoss: 0.426096\n",
      "Train Epoch: 2 [32000/60000 (53%)]\tLoss: 0.573628\n",
      "Train Epoch: 2 [32640/60000 (54%)]\tLoss: 0.370826\n",
      "Train Epoch: 2 [33280/60000 (55%)]\tLoss: 0.574828\n",
      "Train Epoch: 2 [33920/60000 (57%)]\tLoss: 0.345405\n",
      "Train Epoch: 2 [34560/60000 (58%)]\tLoss: 0.400196\n",
      "Train Epoch: 2 [35200/60000 (59%)]\tLoss: 0.710538\n",
      "Train Epoch: 2 [35840/60000 (60%)]\tLoss: 0.517627\n",
      "Train Epoch: 2 [36480/60000 (61%)]\tLoss: 0.528974\n",
      "Train Epoch: 2 [37120/60000 (62%)]\tLoss: 0.438115\n",
      "Train Epoch: 2 [37760/60000 (63%)]\tLoss: 0.584754\n",
      "Train Epoch: 2 [38400/60000 (64%)]\tLoss: 0.565198\n",
      "Train Epoch: 2 [39040/60000 (65%)]\tLoss: 0.509364\n",
      "Train Epoch: 2 [39680/60000 (66%)]\tLoss: 0.457540\n",
      "Train Epoch: 2 [40320/60000 (67%)]\tLoss: 0.694908\n",
      "Train Epoch: 2 [40960/60000 (68%)]\tLoss: 0.509702\n",
      "Train Epoch: 2 [41600/60000 (69%)]\tLoss: 0.449565\n",
      "Train Epoch: 2 [42240/60000 (70%)]\tLoss: 0.464689\n",
      "Train Epoch: 2 [42880/60000 (71%)]\tLoss: 0.516181\n",
      "Train Epoch: 2 [43520/60000 (72%)]\tLoss: 0.499008\n",
      "Train Epoch: 2 [44160/60000 (74%)]\tLoss: 0.508063\n",
      "Train Epoch: 2 [44800/60000 (75%)]\tLoss: 0.553316\n",
      "Train Epoch: 2 [45440/60000 (76%)]\tLoss: 0.404679\n",
      "Train Epoch: 2 [46080/60000 (77%)]\tLoss: 0.526494\n",
      "Train Epoch: 2 [46720/60000 (78%)]\tLoss: 0.402758\n",
      "Train Epoch: 2 [47360/60000 (79%)]\tLoss: 0.492427\n",
      "Train Epoch: 2 [48000/60000 (80%)]\tLoss: 0.512264\n",
      "Train Epoch: 2 [48640/60000 (81%)]\tLoss: 0.585519\n",
      "Train Epoch: 2 [49280/60000 (82%)]\tLoss: 0.581811\n",
      "Train Epoch: 2 [49920/60000 (83%)]\tLoss: 0.419146\n",
      "Train Epoch: 2 [50560/60000 (84%)]\tLoss: 0.487657\n",
      "Train Epoch: 2 [51200/60000 (85%)]\tLoss: 0.425226\n",
      "Train Epoch: 2 [51840/60000 (86%)]\tLoss: 0.345269\n",
      "Train Epoch: 2 [52480/60000 (87%)]\tLoss: 0.536566\n",
      "Train Epoch: 2 [53120/60000 (88%)]\tLoss: 0.424632\n",
      "Train Epoch: 2 [53760/60000 (90%)]\tLoss: 0.420383\n",
      "Train Epoch: 2 [54400/60000 (91%)]\tLoss: 0.399788\n",
      "Train Epoch: 2 [55040/60000 (92%)]\tLoss: 0.684460\n",
      "Train Epoch: 2 [55680/60000 (93%)]\tLoss: 0.452522\n",
      "Train Epoch: 2 [56320/60000 (94%)]\tLoss: 0.630932\n",
      "Train Epoch: 2 [56960/60000 (95%)]\tLoss: 0.497090\n",
      "Train Epoch: 2 [57600/60000 (96%)]\tLoss: 0.460661\n",
      "Train Epoch: 2 [58240/60000 (97%)]\tLoss: 0.385748\n",
      "Train Epoch: 2 [58880/60000 (98%)]\tLoss: 0.513799\n",
      "Train Epoch: 2 [59520/60000 (99%)]\tLoss: 0.634783\n",
      "\n",
      "Test set: Average loss: 0.0063, Accuracy: 8837/10000 (88%)\n",
      "\n",
      "Train Epoch: 3 [0/60000 (0%)]\tLoss: 0.321188\n",
      "Train Epoch: 3 [640/60000 (1%)]\tLoss: 0.279333\n",
      "Train Epoch: 3 [1280/60000 (2%)]\tLoss: 0.646741\n",
      "Train Epoch: 3 [1920/60000 (3%)]\tLoss: 0.280852\n",
      "Train Epoch: 3 [2560/60000 (4%)]\tLoss: 0.632288\n",
      "Train Epoch: 3 [3200/60000 (5%)]\tLoss: 0.303530\n",
      "Train Epoch: 3 [3840/60000 (6%)]\tLoss: 0.437881\n",
      "Train Epoch: 3 [4480/60000 (7%)]\tLoss: 0.462444\n",
      "Train Epoch: 3 [5120/60000 (9%)]\tLoss: 0.361715\n",
      "Train Epoch: 3 [5760/60000 (10%)]\tLoss: 0.538997\n",
      "Train Epoch: 3 [6400/60000 (11%)]\tLoss: 0.310557\n",
      "Train Epoch: 3 [7040/60000 (12%)]\tLoss: 0.456090\n",
      "Train Epoch: 3 [7680/60000 (13%)]\tLoss: 0.352520\n",
      "Train Epoch: 3 [8320/60000 (14%)]\tLoss: 0.461141\n",
      "Train Epoch: 3 [8960/60000 (15%)]\tLoss: 0.623403\n",
      "Train Epoch: 3 [9600/60000 (16%)]\tLoss: 0.387394\n",
      "Train Epoch: 3 [10240/60000 (17%)]\tLoss: 0.446460\n",
      "Train Epoch: 3 [10880/60000 (18%)]\tLoss: 0.424651\n",
      "Train Epoch: 3 [11520/60000 (19%)]\tLoss: 0.349521\n",
      "Train Epoch: 3 [12160/60000 (20%)]\tLoss: 0.490834\n",
      "Train Epoch: 3 [12800/60000 (21%)]\tLoss: 0.399550\n",
      "Train Epoch: 3 [13440/60000 (22%)]\tLoss: 0.526997\n",
      "Train Epoch: 3 [14080/60000 (23%)]\tLoss: 0.355477\n",
      "Train Epoch: 3 [14720/60000 (25%)]\tLoss: 0.375524\n",
      "Train Epoch: 3 [15360/60000 (26%)]\tLoss: 0.289028\n",
      "Train Epoch: 3 [16000/60000 (27%)]\tLoss: 0.353543\n",
      "Train Epoch: 3 [16640/60000 (28%)]\tLoss: 0.497191\n",
      "Train Epoch: 3 [17280/60000 (29%)]\tLoss: 0.416852\n",
      "Train Epoch: 3 [17920/60000 (30%)]\tLoss: 0.404223\n",
      "Train Epoch: 3 [18560/60000 (31%)]\tLoss: 0.426276\n",
      "Train Epoch: 3 [19200/60000 (32%)]\tLoss: 0.401088\n",
      "Train Epoch: 3 [19840/60000 (33%)]\tLoss: 0.386063\n",
      "Train Epoch: 3 [20480/60000 (34%)]\tLoss: 0.362328\n",
      "Train Epoch: 3 [21120/60000 (35%)]\tLoss: 0.286817\n",
      "Train Epoch: 3 [21760/60000 (36%)]\tLoss: 0.555056\n",
      "Train Epoch: 3 [22400/60000 (37%)]\tLoss: 0.290122\n",
      "Train Epoch: 3 [23040/60000 (38%)]\tLoss: 0.471133\n",
      "Train Epoch: 3 [23680/60000 (39%)]\tLoss: 0.482666\n",
      "Train Epoch: 3 [24320/60000 (41%)]\tLoss: 0.350282\n",
      "Train Epoch: 3 [24960/60000 (42%)]\tLoss: 0.233263\n",
      "Train Epoch: 3 [25600/60000 (43%)]\tLoss: 0.195356\n",
      "Train Epoch: 3 [26240/60000 (44%)]\tLoss: 0.241080\n",
      "Train Epoch: 3 [26880/60000 (45%)]\tLoss: 0.622767\n",
      "Train Epoch: 3 [27520/60000 (46%)]\tLoss: 0.338434\n",
      "Train Epoch: 3 [28160/60000 (47%)]\tLoss: 0.264347\n",
      "Train Epoch: 3 [28800/60000 (48%)]\tLoss: 0.442392\n",
      "Train Epoch: 3 [29440/60000 (49%)]\tLoss: 0.249364\n",
      "Train Epoch: 3 [30080/60000 (50%)]\tLoss: 0.611429\n",
      "Train Epoch: 3 [30720/60000 (51%)]\tLoss: 0.311797\n",
      "Train Epoch: 3 [31360/60000 (52%)]\tLoss: 0.456721\n",
      "Train Epoch: 3 [32000/60000 (53%)]\tLoss: 0.462888\n",
      "Train Epoch: 3 [32640/60000 (54%)]\tLoss: 0.175290\n",
      "Train Epoch: 3 [33280/60000 (55%)]\tLoss: 0.313085\n",
      "Train Epoch: 3 [33920/60000 (57%)]\tLoss: 0.560535\n",
      "Train Epoch: 3 [34560/60000 (58%)]\tLoss: 0.411281\n",
      "Train Epoch: 3 [35200/60000 (59%)]\tLoss: 0.365840\n",
      "Train Epoch: 3 [35840/60000 (60%)]\tLoss: 0.409404\n",
      "Train Epoch: 3 [36480/60000 (61%)]\tLoss: 0.255307\n",
      "Train Epoch: 3 [37120/60000 (62%)]\tLoss: 0.259891\n",
      "Train Epoch: 3 [37760/60000 (63%)]\tLoss: 0.349911\n",
      "Train Epoch: 3 [38400/60000 (64%)]\tLoss: 0.456414\n",
      "Train Epoch: 3 [39040/60000 (65%)]\tLoss: 0.431676\n",
      "Train Epoch: 3 [39680/60000 (66%)]\tLoss: 0.484725\n",
      "Train Epoch: 3 [40320/60000 (67%)]\tLoss: 0.215044\n",
      "Train Epoch: 3 [40960/60000 (68%)]\tLoss: 0.315585\n",
      "Train Epoch: 3 [41600/60000 (69%)]\tLoss: 0.168652\n",
      "Train Epoch: 3 [42240/60000 (70%)]\tLoss: 0.297387\n",
      "Train Epoch: 3 [42880/60000 (71%)]\tLoss: 0.302785\n",
      "Train Epoch: 3 [43520/60000 (72%)]\tLoss: 0.373063\n",
      "Train Epoch: 3 [44160/60000 (74%)]\tLoss: 0.287185\n",
      "Train Epoch: 3 [44800/60000 (75%)]\tLoss: 0.302345\n"
     ]
    },
    {
     "name": "stdout",
     "output_type": "stream",
     "text": [
      "Train Epoch: 3 [45440/60000 (76%)]\tLoss: 0.511405\n",
      "Train Epoch: 3 [46080/60000 (77%)]\tLoss: 0.223189\n",
      "Train Epoch: 3 [46720/60000 (78%)]\tLoss: 0.701777\n",
      "Train Epoch: 3 [47360/60000 (79%)]\tLoss: 0.528075\n",
      "Train Epoch: 3 [48000/60000 (80%)]\tLoss: 0.288683\n",
      "Train Epoch: 3 [48640/60000 (81%)]\tLoss: 0.142821\n",
      "Train Epoch: 3 [49280/60000 (82%)]\tLoss: 0.408141\n",
      "Train Epoch: 3 [49920/60000 (83%)]\tLoss: 0.287572\n",
      "Train Epoch: 3 [50560/60000 (84%)]\tLoss: 0.391583\n",
      "Train Epoch: 3 [51200/60000 (85%)]\tLoss: 0.311254\n",
      "Train Epoch: 3 [51840/60000 (86%)]\tLoss: 0.501940\n",
      "Train Epoch: 3 [52480/60000 (87%)]\tLoss: 0.421191\n",
      "Train Epoch: 3 [53120/60000 (88%)]\tLoss: 0.343120\n",
      "Train Epoch: 3 [53760/60000 (90%)]\tLoss: 0.314155\n",
      "Train Epoch: 3 [54400/60000 (91%)]\tLoss: 0.333909\n",
      "Train Epoch: 3 [55040/60000 (92%)]\tLoss: 0.149923\n",
      "Train Epoch: 3 [55680/60000 (93%)]\tLoss: 0.290528\n",
      "Train Epoch: 3 [56320/60000 (94%)]\tLoss: 0.238668\n",
      "Train Epoch: 3 [56960/60000 (95%)]\tLoss: 0.426421\n",
      "Train Epoch: 3 [57600/60000 (96%)]\tLoss: 0.523035\n",
      "Train Epoch: 3 [58240/60000 (97%)]\tLoss: 0.276550\n",
      "Train Epoch: 3 [58880/60000 (98%)]\tLoss: 0.411881\n",
      "Train Epoch: 3 [59520/60000 (99%)]\tLoss: 0.274784\n",
      "\n",
      "Test set: Average loss: 0.0048, Accuracy: 9110/10000 (91%)\n",
      "\n",
      "Train Epoch: 4 [0/60000 (0%)]\tLoss: 0.282786\n",
      "Train Epoch: 4 [640/60000 (1%)]\tLoss: 0.289477\n",
      "Train Epoch: 4 [1280/60000 (2%)]\tLoss: 0.142862\n",
      "Train Epoch: 4 [1920/60000 (3%)]\tLoss: 0.338082\n",
      "Train Epoch: 4 [2560/60000 (4%)]\tLoss: 0.293871\n",
      "Train Epoch: 4 [3200/60000 (5%)]\tLoss: 0.391218\n",
      "Train Epoch: 4 [3840/60000 (6%)]\tLoss: 0.272178\n",
      "Train Epoch: 4 [4480/60000 (7%)]\tLoss: 0.183640\n",
      "Train Epoch: 4 [5120/60000 (9%)]\tLoss: 0.455893\n",
      "Train Epoch: 4 [5760/60000 (10%)]\tLoss: 0.248219\n",
      "Train Epoch: 4 [6400/60000 (11%)]\tLoss: 0.498022\n",
      "Train Epoch: 4 [7040/60000 (12%)]\tLoss: 0.332708\n",
      "Train Epoch: 4 [7680/60000 (13%)]\tLoss: 0.228929\n",
      "Train Epoch: 4 [8320/60000 (14%)]\tLoss: 0.339019\n",
      "Train Epoch: 4 [8960/60000 (15%)]\tLoss: 0.360622\n",
      "Train Epoch: 4 [9600/60000 (16%)]\tLoss: 0.220626\n",
      "Train Epoch: 4 [10240/60000 (17%)]\tLoss: 0.331954\n",
      "Train Epoch: 4 [10880/60000 (18%)]\tLoss: 0.411483\n",
      "Train Epoch: 4 [11520/60000 (19%)]\tLoss: 0.348594\n",
      "Train Epoch: 4 [12160/60000 (20%)]\tLoss: 0.221672\n",
      "Train Epoch: 4 [12800/60000 (21%)]\tLoss: 0.337300\n",
      "Train Epoch: 4 [13440/60000 (22%)]\tLoss: 0.176444\n",
      "Train Epoch: 4 [14080/60000 (23%)]\tLoss: 0.151403\n",
      "Train Epoch: 4 [14720/60000 (25%)]\tLoss: 0.354977\n",
      "Train Epoch: 4 [15360/60000 (26%)]\tLoss: 0.281438\n",
      "Train Epoch: 4 [16000/60000 (27%)]\tLoss: 0.295374\n",
      "Train Epoch: 4 [16640/60000 (28%)]\tLoss: 0.336767\n",
      "Train Epoch: 4 [17280/60000 (29%)]\tLoss: 0.413460\n",
      "Train Epoch: 4 [17920/60000 (30%)]\tLoss: 0.438847\n",
      "Train Epoch: 4 [18560/60000 (31%)]\tLoss: 0.213362\n",
      "Train Epoch: 4 [19200/60000 (32%)]\tLoss: 0.279066\n",
      "Train Epoch: 4 [19840/60000 (33%)]\tLoss: 0.441363\n",
      "Train Epoch: 4 [20480/60000 (34%)]\tLoss: 0.238744\n",
      "Train Epoch: 4 [21120/60000 (35%)]\tLoss: 0.228973\n",
      "Train Epoch: 4 [21760/60000 (36%)]\tLoss: 0.290597\n",
      "Train Epoch: 4 [22400/60000 (37%)]\tLoss: 0.373481\n",
      "Train Epoch: 4 [23040/60000 (38%)]\tLoss: 0.167040\n",
      "Train Epoch: 4 [23680/60000 (39%)]\tLoss: 0.162432\n",
      "Train Epoch: 4 [24320/60000 (41%)]\tLoss: 0.280640\n",
      "Train Epoch: 4 [24960/60000 (42%)]\tLoss: 0.139414\n",
      "Train Epoch: 4 [25600/60000 (43%)]\tLoss: 0.513735\n",
      "Train Epoch: 4 [26240/60000 (44%)]\tLoss: 0.273292\n",
      "Train Epoch: 4 [26880/60000 (45%)]\tLoss: 0.282972\n",
      "Train Epoch: 4 [27520/60000 (46%)]\tLoss: 0.486975\n",
      "Train Epoch: 4 [28160/60000 (47%)]\tLoss: 0.202315\n",
      "Train Epoch: 4 [28800/60000 (48%)]\tLoss: 0.192977\n",
      "Train Epoch: 4 [29440/60000 (49%)]\tLoss: 0.583836\n",
      "Train Epoch: 4 [30080/60000 (50%)]\tLoss: 0.314058\n",
      "Train Epoch: 4 [30720/60000 (51%)]\tLoss: 0.175543\n",
      "Train Epoch: 4 [31360/60000 (52%)]\tLoss: 0.211376\n",
      "Train Epoch: 4 [32000/60000 (53%)]\tLoss: 0.243956\n",
      "Train Epoch: 4 [32640/60000 (54%)]\tLoss: 0.263106\n",
      "Train Epoch: 4 [33280/60000 (55%)]\tLoss: 0.170336\n",
      "Train Epoch: 4 [33920/60000 (57%)]\tLoss: 0.338396\n",
      "Train Epoch: 4 [34560/60000 (58%)]\tLoss: 0.213445\n",
      "Train Epoch: 4 [35200/60000 (59%)]\tLoss: 0.189586\n",
      "Train Epoch: 4 [35840/60000 (60%)]\tLoss: 0.340461\n",
      "Train Epoch: 4 [36480/60000 (61%)]\tLoss: 0.403736\n",
      "Train Epoch: 4 [37120/60000 (62%)]\tLoss: 0.305529\n",
      "Train Epoch: 4 [37760/60000 (63%)]\tLoss: 0.221448\n",
      "Train Epoch: 4 [38400/60000 (64%)]\tLoss: 0.223500\n",
      "Train Epoch: 4 [39040/60000 (65%)]\tLoss: 0.181839\n",
      "Train Epoch: 4 [39680/60000 (66%)]\tLoss: 0.305740\n",
      "Train Epoch: 4 [40320/60000 (67%)]\tLoss: 0.252949\n",
      "Train Epoch: 4 [40960/60000 (68%)]\tLoss: 0.322059\n",
      "Train Epoch: 4 [41600/60000 (69%)]\tLoss: 0.147361\n",
      "Train Epoch: 4 [42240/60000 (70%)]\tLoss: 0.160079\n",
      "Train Epoch: 4 [42880/60000 (71%)]\tLoss: 0.464336\n",
      "Train Epoch: 4 [43520/60000 (72%)]\tLoss: 0.109392\n",
      "Train Epoch: 4 [44160/60000 (74%)]\tLoss: 0.466000\n",
      "Train Epoch: 4 [44800/60000 (75%)]\tLoss: 0.215164\n",
      "Train Epoch: 4 [45440/60000 (76%)]\tLoss: 0.323763\n",
      "Train Epoch: 4 [46080/60000 (77%)]\tLoss: 0.277632\n",
      "Train Epoch: 4 [46720/60000 (78%)]\tLoss: 0.294965\n",
      "Train Epoch: 4 [47360/60000 (79%)]\tLoss: 0.314261\n",
      "Train Epoch: 4 [48000/60000 (80%)]\tLoss: 0.251669\n",
      "Train Epoch: 4 [48640/60000 (81%)]\tLoss: 0.314504\n",
      "Train Epoch: 4 [49280/60000 (82%)]\tLoss: 0.338408\n",
      "Train Epoch: 4 [49920/60000 (83%)]\tLoss: 0.172430\n",
      "Train Epoch: 4 [50560/60000 (84%)]\tLoss: 0.137410\n",
      "Train Epoch: 4 [51200/60000 (85%)]\tLoss: 0.360655\n",
      "Train Epoch: 4 [51840/60000 (86%)]\tLoss: 0.362448\n",
      "Train Epoch: 4 [52480/60000 (87%)]\tLoss: 0.213901\n",
      "Train Epoch: 4 [53120/60000 (88%)]\tLoss: 0.239047\n",
      "Train Epoch: 4 [53760/60000 (90%)]\tLoss: 0.148736\n",
      "Train Epoch: 4 [54400/60000 (91%)]\tLoss: 0.267335\n",
      "Train Epoch: 4 [55040/60000 (92%)]\tLoss: 0.138811\n",
      "Train Epoch: 4 [55680/60000 (93%)]\tLoss: 0.523666\n",
      "Train Epoch: 4 [56320/60000 (94%)]\tLoss: 0.270295\n",
      "Train Epoch: 4 [56960/60000 (95%)]\tLoss: 0.197045\n",
      "Train Epoch: 4 [57600/60000 (96%)]\tLoss: 0.265193\n",
      "Train Epoch: 4 [58240/60000 (97%)]\tLoss: 0.277274\n",
      "Train Epoch: 4 [58880/60000 (98%)]\tLoss: 0.227195\n",
      "Train Epoch: 4 [59520/60000 (99%)]\tLoss: 0.416683\n",
      "\n",
      "Test set: Average loss: 0.0035, Accuracy: 9362/10000 (93%)\n",
      "\n",
      "Train Epoch: 5 [0/60000 (0%)]\tLoss: 0.360808\n",
      "Train Epoch: 5 [640/60000 (1%)]\tLoss: 0.369700\n",
      "Train Epoch: 5 [1280/60000 (2%)]\tLoss: 0.217883\n",
      "Train Epoch: 5 [1920/60000 (3%)]\tLoss: 0.229682\n",
      "Train Epoch: 5 [2560/60000 (4%)]\tLoss: 0.203531\n",
      "Train Epoch: 5 [3200/60000 (5%)]\tLoss: 0.332485\n",
      "Train Epoch: 5 [3840/60000 (6%)]\tLoss: 0.319552\n",
      "Train Epoch: 5 [4480/60000 (7%)]\tLoss: 0.213184\n",
      "Train Epoch: 5 [5120/60000 (9%)]\tLoss: 0.115722\n",
      "Train Epoch: 5 [5760/60000 (10%)]\tLoss: 0.232417\n",
      "Train Epoch: 5 [6400/60000 (11%)]\tLoss: 0.391217\n",
      "Train Epoch: 5 [7040/60000 (12%)]\tLoss: 0.464308\n",
      "Train Epoch: 5 [7680/60000 (13%)]\tLoss: 0.053811\n",
      "Train Epoch: 5 [8320/60000 (14%)]\tLoss: 0.091422\n",
      "Train Epoch: 5 [8960/60000 (15%)]\tLoss: 0.137059\n",
      "Train Epoch: 5 [9600/60000 (16%)]\tLoss: 0.185501\n",
      "Train Epoch: 5 [10240/60000 (17%)]\tLoss: 0.241229\n",
      "Train Epoch: 5 [10880/60000 (18%)]\tLoss: 0.144783\n",
      "Train Epoch: 5 [11520/60000 (19%)]\tLoss: 0.287735\n",
      "Train Epoch: 5 [12160/60000 (20%)]\tLoss: 0.046898\n",
      "Train Epoch: 5 [12800/60000 (21%)]\tLoss: 0.267244\n",
      "Train Epoch: 5 [13440/60000 (22%)]\tLoss: 0.175136\n",
      "Train Epoch: 5 [14080/60000 (23%)]\tLoss: 0.225472\n",
      "Train Epoch: 5 [14720/60000 (25%)]\tLoss: 0.212508\n",
      "Train Epoch: 5 [15360/60000 (26%)]\tLoss: 0.299038\n",
      "Train Epoch: 5 [16000/60000 (27%)]\tLoss: 0.154294\n",
      "Train Epoch: 5 [16640/60000 (28%)]\tLoss: 0.129645\n",
      "Train Epoch: 5 [17280/60000 (29%)]\tLoss: 0.180034\n",
      "Train Epoch: 5 [17920/60000 (30%)]\tLoss: 0.189329\n",
      "Train Epoch: 5 [18560/60000 (31%)]\tLoss: 0.240242\n",
      "Train Epoch: 5 [19200/60000 (32%)]\tLoss: 0.277851\n",
      "Train Epoch: 5 [19840/60000 (33%)]\tLoss: 0.098569\n",
      "Train Epoch: 5 [20480/60000 (34%)]\tLoss: 0.422941\n",
      "Train Epoch: 5 [21120/60000 (35%)]\tLoss: 0.189710\n",
      "Train Epoch: 5 [21760/60000 (36%)]\tLoss: 0.295227\n",
      "Train Epoch: 5 [22400/60000 (37%)]\tLoss: 0.376452\n",
      "Train Epoch: 5 [23040/60000 (38%)]\tLoss: 0.196802\n",
      "Train Epoch: 5 [23680/60000 (39%)]\tLoss: 0.261006\n",
      "Train Epoch: 5 [24320/60000 (41%)]\tLoss: 0.367042\n",
      "Train Epoch: 5 [24960/60000 (42%)]\tLoss: 0.233406\n",
      "Train Epoch: 5 [25600/60000 (43%)]\tLoss: 0.352884\n",
      "Train Epoch: 5 [26240/60000 (44%)]\tLoss: 0.458294\n",
      "Train Epoch: 5 [26880/60000 (45%)]\tLoss: 0.253421\n",
      "Train Epoch: 5 [27520/60000 (46%)]\tLoss: 0.121562\n",
      "Train Epoch: 5 [28160/60000 (47%)]\tLoss: 0.354898\n",
      "Train Epoch: 5 [28800/60000 (48%)]\tLoss: 0.105810\n"
     ]
    },
    {
     "name": "stdout",
     "output_type": "stream",
     "text": [
      "Train Epoch: 5 [29440/60000 (49%)]\tLoss: 0.128302\n",
      "Train Epoch: 5 [30080/60000 (50%)]\tLoss: 0.112098\n",
      "Train Epoch: 5 [30720/60000 (51%)]\tLoss: 0.175625\n",
      "Train Epoch: 5 [31360/60000 (52%)]\tLoss: 0.167498\n",
      "Train Epoch: 5 [32000/60000 (53%)]\tLoss: 0.279384\n",
      "Train Epoch: 5 [32640/60000 (54%)]\tLoss: 0.162030\n",
      "Train Epoch: 5 [33280/60000 (55%)]\tLoss: 0.322968\n",
      "Train Epoch: 5 [33920/60000 (57%)]\tLoss: 0.328161\n",
      "Train Epoch: 5 [34560/60000 (58%)]\tLoss: 0.161203\n",
      "Train Epoch: 5 [35200/60000 (59%)]\tLoss: 0.373350\n",
      "Train Epoch: 5 [35840/60000 (60%)]\tLoss: 0.329837\n",
      "Train Epoch: 5 [36480/60000 (61%)]\tLoss: 0.177063\n",
      "Train Epoch: 5 [37120/60000 (62%)]\tLoss: 0.191305\n",
      "Train Epoch: 5 [37760/60000 (63%)]\tLoss: 0.139932\n",
      "Train Epoch: 5 [38400/60000 (64%)]\tLoss: 0.141715\n",
      "Train Epoch: 5 [39040/60000 (65%)]\tLoss: 0.238406\n",
      "Train Epoch: 5 [39680/60000 (66%)]\tLoss: 0.070460\n",
      "Train Epoch: 5 [40320/60000 (67%)]\tLoss: 0.174106\n",
      "Train Epoch: 5 [40960/60000 (68%)]\tLoss: 0.395708\n",
      "Train Epoch: 5 [41600/60000 (69%)]\tLoss: 0.131053\n",
      "Train Epoch: 5 [42240/60000 (70%)]\tLoss: 0.179433\n",
      "Train Epoch: 5 [42880/60000 (71%)]\tLoss: 0.221904\n",
      "Train Epoch: 5 [43520/60000 (72%)]\tLoss: 0.313884\n",
      "Train Epoch: 5 [44160/60000 (74%)]\tLoss: 0.092215\n",
      "Train Epoch: 5 [44800/60000 (75%)]\tLoss: 0.085802\n",
      "Train Epoch: 5 [45440/60000 (76%)]\tLoss: 0.060092\n",
      "Train Epoch: 5 [46080/60000 (77%)]\tLoss: 0.292488\n",
      "Train Epoch: 5 [46720/60000 (78%)]\tLoss: 0.154695\n",
      "Train Epoch: 5 [47360/60000 (79%)]\tLoss: 0.068577\n",
      "Train Epoch: 5 [48000/60000 (80%)]\tLoss: 0.346677\n",
      "Train Epoch: 5 [48640/60000 (81%)]\tLoss: 0.035294\n",
      "Train Epoch: 5 [49280/60000 (82%)]\tLoss: 0.223755\n",
      "Train Epoch: 5 [49920/60000 (83%)]\tLoss: 0.130114\n",
      "Train Epoch: 5 [50560/60000 (84%)]\tLoss: 0.112758\n",
      "Train Epoch: 5 [51200/60000 (85%)]\tLoss: 0.147092\n",
      "Train Epoch: 5 [51840/60000 (86%)]\tLoss: 0.164960\n",
      "Train Epoch: 5 [52480/60000 (87%)]\tLoss: 0.173469\n",
      "Train Epoch: 5 [53120/60000 (88%)]\tLoss: 0.174930\n",
      "Train Epoch: 5 [53760/60000 (90%)]\tLoss: 0.272455\n",
      "Train Epoch: 5 [54400/60000 (91%)]\tLoss: 0.290726\n",
      "Train Epoch: 5 [55040/60000 (92%)]\tLoss: 0.203008\n",
      "Train Epoch: 5 [55680/60000 (93%)]\tLoss: 0.092579\n",
      "Train Epoch: 5 [56320/60000 (94%)]\tLoss: 0.315970\n",
      "Train Epoch: 5 [56960/60000 (95%)]\tLoss: 0.121381\n",
      "Train Epoch: 5 [57600/60000 (96%)]\tLoss: 0.156930\n",
      "Train Epoch: 5 [58240/60000 (97%)]\tLoss: 0.206395\n",
      "Train Epoch: 5 [58880/60000 (98%)]\tLoss: 0.180272\n",
      "Train Epoch: 5 [59520/60000 (99%)]\tLoss: 0.176613\n",
      "\n",
      "Test set: Average loss: 0.0030, Accuracy: 9424/10000 (94%)\n",
      "\n",
      "Train Epoch: 6 [0/60000 (0%)]\tLoss: 0.168077\n",
      "Train Epoch: 6 [640/60000 (1%)]\tLoss: 0.328073\n",
      "Train Epoch: 6 [1280/60000 (2%)]\tLoss: 0.087497\n",
      "Train Epoch: 6 [1920/60000 (3%)]\tLoss: 0.126770\n",
      "Train Epoch: 6 [2560/60000 (4%)]\tLoss: 0.256015\n",
      "Train Epoch: 6 [3200/60000 (5%)]\tLoss: 0.111959\n",
      "Train Epoch: 6 [3840/60000 (6%)]\tLoss: 0.139017\n",
      "Train Epoch: 6 [4480/60000 (7%)]\tLoss: 0.266771\n",
      "Train Epoch: 6 [5120/60000 (9%)]\tLoss: 0.051642\n",
      "Train Epoch: 6 [5760/60000 (10%)]\tLoss: 0.238828\n",
      "Train Epoch: 6 [6400/60000 (11%)]\tLoss: 0.113531\n",
      "Train Epoch: 6 [7040/60000 (12%)]\tLoss: 0.213458\n",
      "Train Epoch: 6 [7680/60000 (13%)]\tLoss: 0.105465\n",
      "Train Epoch: 6 [8320/60000 (14%)]\tLoss: 0.135096\n",
      "Train Epoch: 6 [8960/60000 (15%)]\tLoss: 0.287567\n",
      "Train Epoch: 6 [9600/60000 (16%)]\tLoss: 0.200848\n",
      "Train Epoch: 6 [10240/60000 (17%)]\tLoss: 0.103616\n",
      "Train Epoch: 6 [10880/60000 (18%)]\tLoss: 0.256211\n",
      "Train Epoch: 6 [11520/60000 (19%)]\tLoss: 0.156749\n",
      "Train Epoch: 6 [12160/60000 (20%)]\tLoss: 0.160294\n",
      "Train Epoch: 6 [12800/60000 (21%)]\tLoss: 0.169755\n",
      "Train Epoch: 6 [13440/60000 (22%)]\tLoss: 0.199262\n",
      "Train Epoch: 6 [14080/60000 (23%)]\tLoss: 0.155845\n",
      "Train Epoch: 6 [14720/60000 (25%)]\tLoss: 0.198595\n",
      "Train Epoch: 6 [15360/60000 (26%)]\tLoss: 0.120754\n",
      "Train Epoch: 6 [16000/60000 (27%)]\tLoss: 0.103237\n",
      "Train Epoch: 6 [16640/60000 (28%)]\tLoss: 0.186685\n",
      "Train Epoch: 6 [17280/60000 (29%)]\tLoss: 0.267880\n",
      "Train Epoch: 6 [17920/60000 (30%)]\tLoss: 0.144914\n",
      "Train Epoch: 6 [18560/60000 (31%)]\tLoss: 0.147712\n",
      "Train Epoch: 6 [19200/60000 (32%)]\tLoss: 0.158992\n",
      "Train Epoch: 6 [19840/60000 (33%)]\tLoss: 0.154123\n",
      "Train Epoch: 6 [20480/60000 (34%)]\tLoss: 0.115288\n",
      "Train Epoch: 6 [21120/60000 (35%)]\tLoss: 0.131510\n",
      "Train Epoch: 6 [21760/60000 (36%)]\tLoss: 0.229929\n",
      "Train Epoch: 6 [22400/60000 (37%)]\tLoss: 0.133731\n",
      "Train Epoch: 6 [23040/60000 (38%)]\tLoss: 0.129227\n",
      "Train Epoch: 6 [23680/60000 (39%)]\tLoss: 0.204614\n",
      "Train Epoch: 6 [24320/60000 (41%)]\tLoss: 0.184474\n",
      "Train Epoch: 6 [24960/60000 (42%)]\tLoss: 0.321393\n",
      "Train Epoch: 6 [25600/60000 (43%)]\tLoss: 0.072440\n",
      "Train Epoch: 6 [26240/60000 (44%)]\tLoss: 0.113100\n",
      "Train Epoch: 6 [26880/60000 (45%)]\tLoss: 0.085865\n",
      "Train Epoch: 6 [27520/60000 (46%)]\tLoss: 0.108050\n",
      "Train Epoch: 6 [28160/60000 (47%)]\tLoss: 0.053191\n",
      "Train Epoch: 6 [28800/60000 (48%)]\tLoss: 0.128308\n",
      "Train Epoch: 6 [29440/60000 (49%)]\tLoss: 0.214448\n",
      "Train Epoch: 6 [30080/60000 (50%)]\tLoss: 0.284490\n",
      "Train Epoch: 6 [30720/60000 (51%)]\tLoss: 0.096583\n",
      "Train Epoch: 6 [31360/60000 (52%)]\tLoss: 0.095466\n",
      "Train Epoch: 6 [32000/60000 (53%)]\tLoss: 0.243790\n",
      "Train Epoch: 6 [32640/60000 (54%)]\tLoss: 0.224886\n",
      "Train Epoch: 6 [33280/60000 (55%)]\tLoss: 0.117274\n",
      "Train Epoch: 6 [33920/60000 (57%)]\tLoss: 0.156581\n",
      "Train Epoch: 6 [34560/60000 (58%)]\tLoss: 0.150858\n",
      "Train Epoch: 6 [35200/60000 (59%)]\tLoss: 0.083845\n",
      "Train Epoch: 6 [35840/60000 (60%)]\tLoss: 0.059690\n",
      "Train Epoch: 6 [36480/60000 (61%)]\tLoss: 0.125617\n",
      "Train Epoch: 6 [37120/60000 (62%)]\tLoss: 0.152609\n",
      "Train Epoch: 6 [37760/60000 (63%)]\tLoss: 0.132903\n",
      "Train Epoch: 6 [38400/60000 (64%)]\tLoss: 0.157891\n",
      "Train Epoch: 6 [39040/60000 (65%)]\tLoss: 0.359563\n",
      "Train Epoch: 6 [39680/60000 (66%)]\tLoss: 0.099740\n",
      "Train Epoch: 6 [40320/60000 (67%)]\tLoss: 0.135612\n",
      "Train Epoch: 6 [40960/60000 (68%)]\tLoss: 0.150505\n",
      "Train Epoch: 6 [41600/60000 (69%)]\tLoss: 0.049368\n",
      "Train Epoch: 6 [42240/60000 (70%)]\tLoss: 0.053331\n",
      "Train Epoch: 6 [42880/60000 (71%)]\tLoss: 0.162272\n",
      "Train Epoch: 6 [43520/60000 (72%)]\tLoss: 0.131214\n",
      "Train Epoch: 6 [44160/60000 (74%)]\tLoss: 0.105007\n",
      "Train Epoch: 6 [44800/60000 (75%)]\tLoss: 0.275490\n",
      "Train Epoch: 6 [45440/60000 (76%)]\tLoss: 0.119026\n",
      "Train Epoch: 6 [46080/60000 (77%)]\tLoss: 0.201803\n",
      "Train Epoch: 6 [46720/60000 (78%)]\tLoss: 0.142809\n",
      "Train Epoch: 6 [47360/60000 (79%)]\tLoss: 0.162959\n",
      "Train Epoch: 6 [48000/60000 (80%)]\tLoss: 0.096226\n",
      "Train Epoch: 6 [48640/60000 (81%)]\tLoss: 0.205613\n",
      "Train Epoch: 6 [49280/60000 (82%)]\tLoss: 0.323878\n",
      "Train Epoch: 6 [49920/60000 (83%)]\tLoss: 0.129257\n",
      "Train Epoch: 6 [50560/60000 (84%)]\tLoss: 0.140741\n",
      "Train Epoch: 6 [51200/60000 (85%)]\tLoss: 0.119399\n",
      "Train Epoch: 6 [51840/60000 (86%)]\tLoss: 0.304955\n",
      "Train Epoch: 6 [52480/60000 (87%)]\tLoss: 0.143883\n",
      "Train Epoch: 6 [53120/60000 (88%)]\tLoss: 0.081649\n",
      "Train Epoch: 6 [53760/60000 (90%)]\tLoss: 0.374451\n",
      "Train Epoch: 6 [54400/60000 (91%)]\tLoss: 0.105486\n",
      "Train Epoch: 6 [55040/60000 (92%)]\tLoss: 0.176809\n",
      "Train Epoch: 6 [55680/60000 (93%)]\tLoss: 0.299361\n",
      "Train Epoch: 6 [56320/60000 (94%)]\tLoss: 0.078326\n",
      "Train Epoch: 6 [56960/60000 (95%)]\tLoss: 0.136160\n",
      "Train Epoch: 6 [57600/60000 (96%)]\tLoss: 0.213388\n",
      "Train Epoch: 6 [58240/60000 (97%)]\tLoss: 0.075368\n",
      "Train Epoch: 6 [58880/60000 (98%)]\tLoss: 0.071270\n",
      "Train Epoch: 6 [59520/60000 (99%)]\tLoss: 0.112452\n",
      "\n",
      "Test set: Average loss: 0.0023, Accuracy: 9577/10000 (95%)\n",
      "\n",
      "Train Epoch: 7 [0/60000 (0%)]\tLoss: 0.119897\n",
      "Train Epoch: 7 [640/60000 (1%)]\tLoss: 0.243516\n",
      "Train Epoch: 7 [1280/60000 (2%)]\tLoss: 0.061277\n",
      "Train Epoch: 7 [1920/60000 (3%)]\tLoss: 0.109300\n",
      "Train Epoch: 7 [2560/60000 (4%)]\tLoss: 0.077637\n",
      "Train Epoch: 7 [3200/60000 (5%)]\tLoss: 0.080124\n",
      "Train Epoch: 7 [3840/60000 (6%)]\tLoss: 0.056445\n",
      "Train Epoch: 7 [4480/60000 (7%)]\tLoss: 0.268141\n",
      "Train Epoch: 7 [5120/60000 (9%)]\tLoss: 0.227599\n",
      "Train Epoch: 7 [5760/60000 (10%)]\tLoss: 0.221190\n",
      "Train Epoch: 7 [6400/60000 (11%)]\tLoss: 0.182657\n",
      "Train Epoch: 7 [7040/60000 (12%)]\tLoss: 0.116882\n",
      "Train Epoch: 7 [7680/60000 (13%)]\tLoss: 0.055066\n",
      "Train Epoch: 7 [8320/60000 (14%)]\tLoss: 0.172173\n",
      "Train Epoch: 7 [8960/60000 (15%)]\tLoss: 0.138729\n",
      "Train Epoch: 7 [9600/60000 (16%)]\tLoss: 0.165927\n",
      "Train Epoch: 7 [10240/60000 (17%)]\tLoss: 0.139068\n",
      "Train Epoch: 7 [10880/60000 (18%)]\tLoss: 0.174699\n",
      "Train Epoch: 7 [11520/60000 (19%)]\tLoss: 0.099463\n",
      "Train Epoch: 7 [12160/60000 (20%)]\tLoss: 0.232003\n",
      "Train Epoch: 7 [12800/60000 (21%)]\tLoss: 0.177766\n",
      "Train Epoch: 7 [13440/60000 (22%)]\tLoss: 0.053840\n",
      "Train Epoch: 7 [14080/60000 (23%)]\tLoss: 0.155319\n"
     ]
    },
    {
     "name": "stdout",
     "output_type": "stream",
     "text": [
      "Train Epoch: 7 [14720/60000 (25%)]\tLoss: 0.148235\n",
      "Train Epoch: 7 [15360/60000 (26%)]\tLoss: 0.211220\n",
      "Train Epoch: 7 [16000/60000 (27%)]\tLoss: 0.083867\n",
      "Train Epoch: 7 [16640/60000 (28%)]\tLoss: 0.122764\n",
      "Train Epoch: 7 [17280/60000 (29%)]\tLoss: 0.303161\n",
      "Train Epoch: 7 [17920/60000 (30%)]\tLoss: 0.068525\n",
      "Train Epoch: 7 [18560/60000 (31%)]\tLoss: 0.058306\n",
      "Train Epoch: 7 [19200/60000 (32%)]\tLoss: 0.189825\n",
      "Train Epoch: 7 [19840/60000 (33%)]\tLoss: 0.119065\n",
      "Train Epoch: 7 [20480/60000 (34%)]\tLoss: 0.036156\n",
      "Train Epoch: 7 [21120/60000 (35%)]\tLoss: 0.080072\n",
      "Train Epoch: 7 [21760/60000 (36%)]\tLoss: 0.247375\n",
      "Train Epoch: 7 [22400/60000 (37%)]\tLoss: 0.177764\n",
      "Train Epoch: 7 [23040/60000 (38%)]\tLoss: 0.130488\n",
      "Train Epoch: 7 [23680/60000 (39%)]\tLoss: 0.089504\n",
      "Train Epoch: 7 [24320/60000 (41%)]\tLoss: 0.309280\n",
      "Train Epoch: 7 [24960/60000 (42%)]\tLoss: 0.190800\n",
      "Train Epoch: 7 [25600/60000 (43%)]\tLoss: 0.194975\n",
      "Train Epoch: 7 [26240/60000 (44%)]\tLoss: 0.101764\n",
      "Train Epoch: 7 [26880/60000 (45%)]\tLoss: 0.205628\n",
      "Train Epoch: 7 [27520/60000 (46%)]\tLoss: 0.198913\n",
      "Train Epoch: 7 [28160/60000 (47%)]\tLoss: 0.161951\n",
      "Train Epoch: 7 [28800/60000 (48%)]\tLoss: 0.418600\n",
      "Train Epoch: 7 [29440/60000 (49%)]\tLoss: 0.048091\n",
      "Train Epoch: 7 [30080/60000 (50%)]\tLoss: 0.060851\n",
      "Train Epoch: 7 [30720/60000 (51%)]\tLoss: 0.037745\n",
      "Train Epoch: 7 [31360/60000 (52%)]\tLoss: 0.034792\n",
      "Train Epoch: 7 [32000/60000 (53%)]\tLoss: 0.094320\n",
      "Train Epoch: 7 [32640/60000 (54%)]\tLoss: 0.211765\n",
      "Train Epoch: 7 [33280/60000 (55%)]\tLoss: 0.254535\n",
      "Train Epoch: 7 [33920/60000 (57%)]\tLoss: 0.083615\n",
      "Train Epoch: 7 [34560/60000 (58%)]\tLoss: 0.227957\n",
      "Train Epoch: 7 [35200/60000 (59%)]\tLoss: 0.096063\n",
      "Train Epoch: 7 [35840/60000 (60%)]\tLoss: 0.168323\n",
      "Train Epoch: 7 [36480/60000 (61%)]\tLoss: 0.174719\n",
      "Train Epoch: 7 [37120/60000 (62%)]\tLoss: 0.091972\n",
      "Train Epoch: 7 [37760/60000 (63%)]\tLoss: 0.104866\n",
      "Train Epoch: 7 [38400/60000 (64%)]\tLoss: 0.111251\n",
      "Train Epoch: 7 [39040/60000 (65%)]\tLoss: 0.058099\n",
      "Train Epoch: 7 [39680/60000 (66%)]\tLoss: 0.152239\n",
      "Train Epoch: 7 [40320/60000 (67%)]\tLoss: 0.093595\n",
      "Train Epoch: 7 [40960/60000 (68%)]\tLoss: 0.052223\n",
      "Train Epoch: 7 [41600/60000 (69%)]\tLoss: 0.096222\n",
      "Train Epoch: 7 [42240/60000 (70%)]\tLoss: 0.093554\n",
      "Train Epoch: 7 [42880/60000 (71%)]\tLoss: 0.037717\n",
      "Train Epoch: 7 [43520/60000 (72%)]\tLoss: 0.086526\n",
      "Train Epoch: 7 [44160/60000 (74%)]\tLoss: 0.152295\n",
      "Train Epoch: 7 [44800/60000 (75%)]\tLoss: 0.037722\n",
      "Train Epoch: 7 [45440/60000 (76%)]\tLoss: 0.040068\n",
      "Train Epoch: 7 [46080/60000 (77%)]\tLoss: 0.193245\n",
      "Train Epoch: 7 [46720/60000 (78%)]\tLoss: 0.043504\n",
      "Train Epoch: 7 [47360/60000 (79%)]\tLoss: 0.061344\n",
      "Train Epoch: 7 [48000/60000 (80%)]\tLoss: 0.055311\n",
      "Train Epoch: 7 [48640/60000 (81%)]\tLoss: 0.325291\n",
      "Train Epoch: 7 [49280/60000 (82%)]\tLoss: 0.224439\n",
      "Train Epoch: 7 [49920/60000 (83%)]\tLoss: 0.043813\n",
      "Train Epoch: 7 [50560/60000 (84%)]\tLoss: 0.198407\n",
      "Train Epoch: 7 [51200/60000 (85%)]\tLoss: 0.124929\n",
      "Train Epoch: 7 [51840/60000 (86%)]\tLoss: 0.119698\n",
      "Train Epoch: 7 [52480/60000 (87%)]\tLoss: 0.132226\n",
      "Train Epoch: 7 [53120/60000 (88%)]\tLoss: 0.081878\n",
      "Train Epoch: 7 [53760/60000 (90%)]\tLoss: 0.063080\n",
      "Train Epoch: 7 [54400/60000 (91%)]\tLoss: 0.173053\n",
      "Train Epoch: 7 [55040/60000 (92%)]\tLoss: 0.054817\n",
      "Train Epoch: 7 [55680/60000 (93%)]\tLoss: 0.171784\n",
      "Train Epoch: 7 [56320/60000 (94%)]\tLoss: 0.117012\n",
      "Train Epoch: 7 [56960/60000 (95%)]\tLoss: 0.136308\n",
      "Train Epoch: 7 [57600/60000 (96%)]\tLoss: 0.180419\n",
      "Train Epoch: 7 [58240/60000 (97%)]\tLoss: 0.083362\n",
      "Train Epoch: 7 [58880/60000 (98%)]\tLoss: 0.102999\n",
      "Train Epoch: 7 [59520/60000 (99%)]\tLoss: 0.103052\n",
      "\n",
      "Test set: Average loss: 0.0020, Accuracy: 9607/10000 (96%)\n",
      "\n",
      "Train Epoch: 8 [0/60000 (0%)]\tLoss: 0.111526\n",
      "Train Epoch: 8 [640/60000 (1%)]\tLoss: 0.074498\n",
      "Train Epoch: 8 [1280/60000 (2%)]\tLoss: 0.106909\n",
      "Train Epoch: 8 [1920/60000 (3%)]\tLoss: 0.089368\n",
      "Train Epoch: 8 [2560/60000 (4%)]\tLoss: 0.059127\n",
      "Train Epoch: 8 [3200/60000 (5%)]\tLoss: 0.078058\n",
      "Train Epoch: 8 [3840/60000 (6%)]\tLoss: 0.157765\n",
      "Train Epoch: 8 [4480/60000 (7%)]\tLoss: 0.204855\n",
      "Train Epoch: 8 [5120/60000 (9%)]\tLoss: 0.189524\n",
      "Train Epoch: 8 [5760/60000 (10%)]\tLoss: 0.050948\n",
      "Train Epoch: 8 [6400/60000 (11%)]\tLoss: 0.328487\n",
      "Train Epoch: 8 [7040/60000 (12%)]\tLoss: 0.080301\n",
      "Train Epoch: 8 [7680/60000 (13%)]\tLoss: 0.065496\n",
      "Train Epoch: 8 [8320/60000 (14%)]\tLoss: 0.123145\n",
      "Train Epoch: 8 [8960/60000 (15%)]\tLoss: 0.195842\n",
      "Train Epoch: 8 [9600/60000 (16%)]\tLoss: 0.134604\n",
      "Train Epoch: 8 [10240/60000 (17%)]\tLoss: 0.081253\n",
      "Train Epoch: 8 [10880/60000 (18%)]\tLoss: 0.078178\n",
      "Train Epoch: 8 [11520/60000 (19%)]\tLoss: 0.214193\n",
      "Train Epoch: 8 [12160/60000 (20%)]\tLoss: 0.184252\n",
      "Train Epoch: 8 [12800/60000 (21%)]\tLoss: 0.134484\n",
      "Train Epoch: 8 [13440/60000 (22%)]\tLoss: 0.217286\n",
      "Train Epoch: 8 [14080/60000 (23%)]\tLoss: 0.269658\n",
      "Train Epoch: 8 [14720/60000 (25%)]\tLoss: 0.080773\n",
      "Train Epoch: 8 [15360/60000 (26%)]\tLoss: 0.035973\n",
      "Train Epoch: 8 [16000/60000 (27%)]\tLoss: 0.026213\n",
      "Train Epoch: 8 [16640/60000 (28%)]\tLoss: 0.077908\n",
      "Train Epoch: 8 [17280/60000 (29%)]\tLoss: 0.038118\n",
      "Train Epoch: 8 [17920/60000 (30%)]\tLoss: 0.248300\n",
      "Train Epoch: 8 [18560/60000 (31%)]\tLoss: 0.162111\n",
      "Train Epoch: 8 [19200/60000 (32%)]\tLoss: 0.158511\n",
      "Train Epoch: 8 [19840/60000 (33%)]\tLoss: 0.068294\n",
      "Train Epoch: 8 [20480/60000 (34%)]\tLoss: 0.137902\n",
      "Train Epoch: 8 [21120/60000 (35%)]\tLoss: 0.163822\n",
      "Train Epoch: 8 [21760/60000 (36%)]\tLoss: 0.088679\n",
      "Train Epoch: 8 [22400/60000 (37%)]\tLoss: 0.059852\n",
      "Train Epoch: 8 [23040/60000 (38%)]\tLoss: 0.110199\n",
      "Train Epoch: 8 [23680/60000 (39%)]\tLoss: 0.052162\n",
      "Train Epoch: 8 [24320/60000 (41%)]\tLoss: 0.035391\n",
      "Train Epoch: 8 [24960/60000 (42%)]\tLoss: 0.099376\n",
      "Train Epoch: 8 [25600/60000 (43%)]\tLoss: 0.040127\n",
      "Train Epoch: 8 [26240/60000 (44%)]\tLoss: 0.135892\n",
      "Train Epoch: 8 [26880/60000 (45%)]\tLoss: 0.039253\n",
      "Train Epoch: 8 [27520/60000 (46%)]\tLoss: 0.060078\n",
      "Train Epoch: 8 [28160/60000 (47%)]\tLoss: 0.026007\n",
      "Train Epoch: 8 [28800/60000 (48%)]\tLoss: 0.100544\n",
      "Train Epoch: 8 [29440/60000 (49%)]\tLoss: 0.028159\n",
      "Train Epoch: 8 [30080/60000 (50%)]\tLoss: 0.153478\n",
      "Train Epoch: 8 [30720/60000 (51%)]\tLoss: 0.105371\n",
      "Train Epoch: 8 [31360/60000 (52%)]\tLoss: 0.179382\n",
      "Train Epoch: 8 [32000/60000 (53%)]\tLoss: 0.070921\n",
      "Train Epoch: 8 [32640/60000 (54%)]\tLoss: 0.121534\n",
      "Train Epoch: 8 [33280/60000 (55%)]\tLoss: 0.209888\n",
      "Train Epoch: 8 [33920/60000 (57%)]\tLoss: 0.068349\n",
      "Train Epoch: 8 [34560/60000 (58%)]\tLoss: 0.124750\n",
      "Train Epoch: 8 [35200/60000 (59%)]\tLoss: 0.140772\n",
      "Train Epoch: 8 [35840/60000 (60%)]\tLoss: 0.033254\n",
      "Train Epoch: 8 [36480/60000 (61%)]\tLoss: 0.256432\n",
      "Train Epoch: 8 [37120/60000 (62%)]\tLoss: 0.064783\n",
      "Train Epoch: 8 [37760/60000 (63%)]\tLoss: 0.143342\n",
      "Train Epoch: 8 [38400/60000 (64%)]\tLoss: 0.108917\n",
      "Train Epoch: 8 [39040/60000 (65%)]\tLoss: 0.137265\n",
      "Train Epoch: 8 [39680/60000 (66%)]\tLoss: 0.053676\n",
      "Train Epoch: 8 [40320/60000 (67%)]\tLoss: 0.058413\n",
      "Train Epoch: 8 [40960/60000 (68%)]\tLoss: 0.080425\n",
      "Train Epoch: 8 [41600/60000 (69%)]\tLoss: 0.127270\n",
      "Train Epoch: 8 [42240/60000 (70%)]\tLoss: 0.088600\n",
      "Train Epoch: 8 [42880/60000 (71%)]\tLoss: 0.080670\n",
      "Train Epoch: 8 [43520/60000 (72%)]\tLoss: 0.132788\n",
      "Train Epoch: 8 [44160/60000 (74%)]\tLoss: 0.054101\n",
      "Train Epoch: 8 [44800/60000 (75%)]\tLoss: 0.078925\n",
      "Train Epoch: 8 [45440/60000 (76%)]\tLoss: 0.018204\n",
      "Train Epoch: 8 [46080/60000 (77%)]\tLoss: 0.067601\n",
      "Train Epoch: 8 [46720/60000 (78%)]\tLoss: 0.038654\n",
      "Train Epoch: 8 [47360/60000 (79%)]\tLoss: 0.050044\n",
      "Train Epoch: 8 [48000/60000 (80%)]\tLoss: 0.083575\n",
      "Train Epoch: 8 [48640/60000 (81%)]\tLoss: 0.305029\n",
      "Train Epoch: 8 [49280/60000 (82%)]\tLoss: 0.181027\n",
      "Train Epoch: 8 [49920/60000 (83%)]\tLoss: 0.068682\n",
      "Train Epoch: 8 [50560/60000 (84%)]\tLoss: 0.212840\n",
      "Train Epoch: 8 [51200/60000 (85%)]\tLoss: 0.138817\n",
      "Train Epoch: 8 [51840/60000 (86%)]\tLoss: 0.116157\n",
      "Train Epoch: 8 [52480/60000 (87%)]\tLoss: 0.064106\n",
      "Train Epoch: 8 [53120/60000 (88%)]\tLoss: 0.105946\n",
      "Train Epoch: 8 [53760/60000 (90%)]\tLoss: 0.071842\n",
      "Train Epoch: 8 [54400/60000 (91%)]\tLoss: 0.080719\n",
      "Train Epoch: 8 [55040/60000 (92%)]\tLoss: 0.047971\n",
      "Train Epoch: 8 [55680/60000 (93%)]\tLoss: 0.148182\n",
      "Train Epoch: 8 [56320/60000 (94%)]\tLoss: 0.085706\n",
      "Train Epoch: 8 [56960/60000 (95%)]\tLoss: 0.216769\n",
      "Train Epoch: 8 [57600/60000 (96%)]\tLoss: 0.077304\n",
      "Train Epoch: 8 [58240/60000 (97%)]\tLoss: 0.048105\n",
      "Train Epoch: 8 [58880/60000 (98%)]\tLoss: 0.153900\n",
      "Train Epoch: 8 [59520/60000 (99%)]\tLoss: 0.070273\n"
     ]
    },
    {
     "name": "stdout",
     "output_type": "stream",
     "text": [
      "\n",
      "Test set: Average loss: 0.0019, Accuracy: 9638/10000 (96%)\n",
      "\n",
      "Train Epoch: 9 [0/60000 (0%)]\tLoss: 0.042091\n",
      "Train Epoch: 9 [640/60000 (1%)]\tLoss: 0.169063\n",
      "Train Epoch: 9 [1280/60000 (2%)]\tLoss: 0.054292\n",
      "Train Epoch: 9 [1920/60000 (3%)]\tLoss: 0.076223\n",
      "Train Epoch: 9 [2560/60000 (4%)]\tLoss: 0.044938\n",
      "Train Epoch: 9 [3200/60000 (5%)]\tLoss: 0.095735\n",
      "Train Epoch: 9 [3840/60000 (6%)]\tLoss: 0.019393\n",
      "Train Epoch: 9 [4480/60000 (7%)]\tLoss: 0.037480\n",
      "Train Epoch: 9 [5120/60000 (9%)]\tLoss: 0.133734\n",
      "Train Epoch: 9 [5760/60000 (10%)]\tLoss: 0.254806\n",
      "Train Epoch: 9 [6400/60000 (11%)]\tLoss: 0.062172\n",
      "Train Epoch: 9 [7040/60000 (12%)]\tLoss: 0.089260\n",
      "Train Epoch: 9 [7680/60000 (13%)]\tLoss: 0.039551\n",
      "Train Epoch: 9 [8320/60000 (14%)]\tLoss: 0.101365\n",
      "Train Epoch: 9 [8960/60000 (15%)]\tLoss: 0.064731\n",
      "Train Epoch: 9 [9600/60000 (16%)]\tLoss: 0.136905\n",
      "Train Epoch: 9 [10240/60000 (17%)]\tLoss: 0.042417\n",
      "Train Epoch: 9 [10880/60000 (18%)]\tLoss: 0.089013\n",
      "Train Epoch: 9 [11520/60000 (19%)]\tLoss: 0.203547\n",
      "Train Epoch: 9 [12160/60000 (20%)]\tLoss: 0.030047\n",
      "Train Epoch: 9 [12800/60000 (21%)]\tLoss: 0.055456\n",
      "Train Epoch: 9 [13440/60000 (22%)]\tLoss: 0.061364\n",
      "Train Epoch: 9 [14080/60000 (23%)]\tLoss: 0.157856\n",
      "Train Epoch: 9 [14720/60000 (25%)]\tLoss: 0.079325\n",
      "Train Epoch: 9 [15360/60000 (26%)]\tLoss: 0.056800\n",
      "Train Epoch: 9 [16000/60000 (27%)]\tLoss: 0.078858\n",
      "Train Epoch: 9 [16640/60000 (28%)]\tLoss: 0.047937\n",
      "Train Epoch: 9 [17280/60000 (29%)]\tLoss: 0.070537\n",
      "Train Epoch: 9 [17920/60000 (30%)]\tLoss: 0.161049\n",
      "Train Epoch: 9 [18560/60000 (31%)]\tLoss: 0.070640\n",
      "Train Epoch: 9 [19200/60000 (32%)]\tLoss: 0.159313\n",
      "Train Epoch: 9 [19840/60000 (33%)]\tLoss: 0.081622\n",
      "Train Epoch: 9 [20480/60000 (34%)]\tLoss: 0.085643\n",
      "Train Epoch: 9 [21120/60000 (35%)]\tLoss: 0.103911\n",
      "Train Epoch: 9 [21760/60000 (36%)]\tLoss: 0.031591\n",
      "Train Epoch: 9 [22400/60000 (37%)]\tLoss: 0.032719\n",
      "Train Epoch: 9 [23040/60000 (38%)]\tLoss: 0.109947\n",
      "Train Epoch: 9 [23680/60000 (39%)]\tLoss: 0.060668\n",
      "Train Epoch: 9 [24320/60000 (41%)]\tLoss: 0.045247\n",
      "Train Epoch: 9 [24960/60000 (42%)]\tLoss: 0.028558\n",
      "Train Epoch: 9 [25600/60000 (43%)]\tLoss: 0.128679\n",
      "Train Epoch: 9 [26240/60000 (44%)]\tLoss: 0.174299\n",
      "Train Epoch: 9 [26880/60000 (45%)]\tLoss: 0.352681\n",
      "Train Epoch: 9 [27520/60000 (46%)]\tLoss: 0.076442\n",
      "Train Epoch: 9 [28160/60000 (47%)]\tLoss: 0.086913\n",
      "Train Epoch: 9 [28800/60000 (48%)]\tLoss: 0.166126\n",
      "Train Epoch: 9 [29440/60000 (49%)]\tLoss: 0.048320\n",
      "Train Epoch: 9 [30080/60000 (50%)]\tLoss: 0.063871\n",
      "Train Epoch: 9 [30720/60000 (51%)]\tLoss: 0.089976\n",
      "Train Epoch: 9 [31360/60000 (52%)]\tLoss: 0.131959\n",
      "Train Epoch: 9 [32000/60000 (53%)]\tLoss: 0.098003\n",
      "Train Epoch: 9 [32640/60000 (54%)]\tLoss: 0.201005\n",
      "Train Epoch: 9 [33280/60000 (55%)]\tLoss: 0.228544\n",
      "Train Epoch: 9 [33920/60000 (57%)]\tLoss: 0.229336\n",
      "Train Epoch: 9 [34560/60000 (58%)]\tLoss: 0.025956\n",
      "Train Epoch: 9 [35200/60000 (59%)]\tLoss: 0.040246\n",
      "Train Epoch: 9 [35840/60000 (60%)]\tLoss: 0.148997\n",
      "Train Epoch: 9 [36480/60000 (61%)]\tLoss: 0.122416\n",
      "Train Epoch: 9 [37120/60000 (62%)]\tLoss: 0.167470\n",
      "Train Epoch: 9 [37760/60000 (63%)]\tLoss: 0.122178\n",
      "Train Epoch: 9 [38400/60000 (64%)]\tLoss: 0.076769\n",
      "Train Epoch: 9 [39040/60000 (65%)]\tLoss: 0.162754\n",
      "Train Epoch: 9 [39680/60000 (66%)]\tLoss: 0.087576\n",
      "Train Epoch: 9 [40320/60000 (67%)]\tLoss: 0.078068\n",
      "Train Epoch: 9 [40960/60000 (68%)]\tLoss: 0.061370\n",
      "Train Epoch: 9 [41600/60000 (69%)]\tLoss: 0.029429\n",
      "Train Epoch: 9 [42240/60000 (70%)]\tLoss: 0.299636\n",
      "Train Epoch: 9 [42880/60000 (71%)]\tLoss: 0.098215\n",
      "Train Epoch: 9 [43520/60000 (72%)]\tLoss: 0.142153\n",
      "Train Epoch: 9 [44160/60000 (74%)]\tLoss: 0.106360\n",
      "Train Epoch: 9 [44800/60000 (75%)]\tLoss: 0.104826\n",
      "Train Epoch: 9 [45440/60000 (76%)]\tLoss: 0.079051\n",
      "Train Epoch: 9 [46080/60000 (77%)]\tLoss: 0.020090\n",
      "Train Epoch: 9 [46720/60000 (78%)]\tLoss: 0.027074\n",
      "Train Epoch: 9 [47360/60000 (79%)]\tLoss: 0.033409\n",
      "Train Epoch: 9 [48000/60000 (80%)]\tLoss: 0.059375\n",
      "Train Epoch: 9 [48640/60000 (81%)]\tLoss: 0.049688\n",
      "Train Epoch: 9 [49280/60000 (82%)]\tLoss: 0.127529\n",
      "Train Epoch: 9 [49920/60000 (83%)]\tLoss: 0.208519\n",
      "Train Epoch: 9 [50560/60000 (84%)]\tLoss: 0.030237\n",
      "Train Epoch: 9 [51200/60000 (85%)]\tLoss: 0.152231\n",
      "Train Epoch: 9 [51840/60000 (86%)]\tLoss: 0.075549\n",
      "Train Epoch: 9 [52480/60000 (87%)]\tLoss: 0.087543\n",
      "Train Epoch: 9 [53120/60000 (88%)]\tLoss: 0.063019\n",
      "Train Epoch: 9 [53760/60000 (90%)]\tLoss: 0.102955\n",
      "Train Epoch: 9 [54400/60000 (91%)]\tLoss: 0.080291\n",
      "Train Epoch: 9 [55040/60000 (92%)]\tLoss: 0.183937\n",
      "Train Epoch: 9 [55680/60000 (93%)]\tLoss: 0.067712\n",
      "Train Epoch: 9 [56320/60000 (94%)]\tLoss: 0.054795\n",
      "Train Epoch: 9 [56960/60000 (95%)]\tLoss: 0.029141\n",
      "Train Epoch: 9 [57600/60000 (96%)]\tLoss: 0.089555\n",
      "Train Epoch: 9 [58240/60000 (97%)]\tLoss: 0.051685\n",
      "Train Epoch: 9 [58880/60000 (98%)]\tLoss: 0.092712\n",
      "Train Epoch: 9 [59520/60000 (99%)]\tLoss: 0.049173\n",
      "\n",
      "Test set: Average loss: 0.0016, Accuracy: 9692/10000 (96%)\n",
      "\n"
     ]
    }
   ],
   "source": [
    "from __future__ import print_function\n",
    "import torch\n",
    "import torch.nn as nn\n",
    "import torch.nn.functional as F\n",
    "import torch.optim as optim\n",
    "from torchvision import datasets, transforms\n",
    "from torch.autograd import Variable\n",
    "\n",
    "# Training settings\n",
    "batch_size = 64\n",
    "\n",
    "# MNIST Dataset\n",
    "train_dataset = datasets.MNIST(root='./mnist_data/',\n",
    "                               train=True,\n",
    "                               transform=transforms.ToTensor(),\n",
    "                               download=True)\n",
    "\n",
    "test_dataset = datasets.MNIST(root='./mnist_data/',\n",
    "                              train=False,\n",
    "                              transform=transforms.ToTensor())\n",
    "\n",
    "# Data Loader (Input Pipeline)\n",
    "train_loader = torch.utils.data.DataLoader(dataset=train_dataset,\n",
    "                                           batch_size=batch_size,\n",
    "                                           shuffle=True)\n",
    "\n",
    "test_loader = torch.utils.data.DataLoader(dataset=test_dataset,\n",
    "                                          batch_size=batch_size,\n",
    "                                          shuffle=False)\n",
    "\n",
    "\n",
    "class Net(nn.Module):\n",
    "\n",
    "    def __init__(self):\n",
    "        super(Net, self).__init__()\n",
    "        ...\n",
    "        return\n",
    "\n",
    "    def forward(self, x):\n",
    "        ...\n",
    "        return\n",
    "\n",
    "\n",
    "model = Net()\n",
    "\n",
    "criterion = nn.CrossEntropyLoss()\n",
    "optimizer = optim.SGD(model.parameters(), lr=0.01, momentum=0.5)\n",
    "\n",
    "\n",
    "def train(epoch):\n",
    "    model.train()\n",
    "    for batch_idx, (data, target) in enumerate(train_loader):\n",
    "        data, target = Variable(data), Variable(target)\n",
    "        optimizer.zero_grad()\n",
    "        output = model(data)\n",
    "        loss = criterion(output, target)\n",
    "        loss.backward()\n",
    "        optimizer.step()\n",
    "        if batch_idx % 10 == 0:\n",
    "            print('Train Epoch: {} [{}/{} ({:.0f}%)]\\tLoss: {:.6f}'.format(\n",
    "                epoch, batch_idx * len(data), len(train_loader.dataset),\n",
    "                100. * batch_idx / len(train_loader), loss.data[0]))\n",
    "\n",
    "\n",
    "def test():\n",
    "    model.eval()\n",
    "    test_loss = 0\n",
    "    correct = 0\n",
    "    for data, target in test_loader:\n",
    "        data, target = Variable(data, volatile=True), Variable(target)\n",
    "        output = model(data)\n",
    "        # sum up batch loss\n",
    "        test_loss += criterion(output, target).data[0]\n",
    "        # get the index of the max\n",
    "        pred = output.data.max(1, keepdim=True)[1]\n",
    "        correct += pred.eq(target.data.view_as(pred)).cpu().sum()\n",
    "\n",
    "    test_loss /= len(test_loader.dataset)\n",
    "    print('\\nTest set: Average loss: {:.4f}, Accuracy: {}/{} ({:.0f}%)\\n'.format(\n",
    "        test_loss, correct, len(test_loader.dataset),\n",
    "        100. * correct / len(test_loader.dataset)))\n",
    "\n",
    "\n",
    "for epoch in range(1, 10):\n",
    "    train(epoch)\n",
    "    test()"
   ]
  },
  {
   "cell_type": "markdown",
   "metadata": {},
   "source": [
    "<a id='data_loader'></a>\n",
    "# Data Loader"
   ]
  },
  {
   "cell_type": "markdown",
   "metadata": {},
   "source": [
    "Now, as you might have noticed with the above implementations of the models, we use something called **data loaders**. Data loaders are different tools/pieces of code that enable us to be able to load our data into our model without having to run the computation on all our data points all at once (saving memory and computational load). Data loaders are also not something specific to PyTorch, but the reason why we introduce them today is because data loaders are incredibly intuitive and efficient to use with PyTorch's implementation!\n",
    "\n",
    "When you inherit from PyTorch's data loader class, you are able to inherit from all the different \"workers\" (GPUs), the different techniques of optimization, and random shuffling from the class, enabling you to load in your data more efficiently. But in order for you to use PyTorch's data loaders, you first need to define different methods for the data itself (we don't do that in our models because they're built in MNIST, but in practice, other datasets may need to have a different class/methods defined in order to work properly).\n",
    "\n",
    "Let's take a look at a visual to see more of what we're talking about!"
   ]
  },
  {
   "cell_type": "markdown",
   "metadata": {},
   "source": [
    "<img src=\"img/data-loader.jpg\" width='800'>"
   ]
  },
  {
   "cell_type": "markdown",
   "metadata": {},
   "source": [
    "Now, in order to actually implement the `train_loader` from above, we need to be able to define an object class that has the following methods:\n",
    "* init\n",
    "* len\n",
    "* getitem\n",
    "\n",
    "That way, when we load this class into PyTorch's dataloader method, we're able to convert the dataset into a generator that can be iterated through to obtain all the different data points. Here's some sudocode of what the different methods and their implemenetation looks like!"
   ]
  },
  {
   "cell_type": "code",
   "execution_count": 25,
   "metadata": {},
   "outputs": [],
   "source": [
    "from torch.utils.data import Dataset, DataLoader"
   ]
  },
  {
   "cell_type": "code",
   "execution_count": 26,
   "metadata": {
    "scrolled": true
   },
   "outputs": [],
   "source": [
    "class SuperDuperCoolDataset(Dataset):\n",
    "    \"\"\"This is for the SuperDuperCool dataset.\"\"\"\n",
    "    \n",
    "    # Initialize your data, download, etc.\n",
    "    def __init__(self):\n",
    "        ...\n",
    "        return\n",
    "    \n",
    "    # Return one item on the index\n",
    "    def __getitem(self, index):\n",
    "        ...\n",
    "        return\n",
    "    \n",
    "    # Return the data length\n",
    "    def __len__(self):\n",
    "        ...\n",
    "        return\n",
    "    \n",
    "dataset = SuperDuperCoolDataset()\n",
    "train_loader = DataLoader(dataset=dataset,\n",
    "                         batch_size=32,\n",
    "                         shuffle=True,\n",
    "                         num_workers=2)"
   ]
  },
  {
   "cell_type": "markdown",
   "metadata": {},
   "source": [
    "<a id='debugging'></a>\n",
    "# Debugging"
   ]
  },
  {
   "cell_type": "code",
   "execution_count": 214,
   "metadata": {
    "ExecuteTime": {
     "end_time": "2018-11-28T05:29:40.493198Z",
     "start_time": "2018-11-28T05:29:40.469896Z"
    },
    "collapsed": true
   },
   "outputs": [],
   "source": [
    "from IPython.core.debugger import Pdb\n",
    "debugger = Pdb()"
   ]
  },
  {
   "cell_type": "markdown",
   "metadata": {},
   "source": [
    "h(help): Print help\n",
    "\n",
    "n(ext): Continue execution until the next line in the current function is reached or it returns.\n",
    "\n",
    "s(tep): Execute the current line, stop at the first possible occasion (either in a function that is called or in the current function).\n",
    "\n",
    "r(eturn): Continue execution until the current function returns.\n",
    "\n",
    "a(rgs): Print the argument list of the current function."
   ]
  },
  {
   "cell_type": "code",
   "execution_count": 215,
   "metadata": {
    "ExecuteTime": {
     "end_time": "2018-11-28T05:29:51.697899Z",
     "start_time": "2018-11-28T05:29:51.691314Z"
    }
   },
   "outputs": [
    {
     "data": {
      "text/plain": [
       "54"
      ]
     },
     "execution_count": 215,
     "metadata": {},
     "output_type": "execute_result"
    }
   ],
   "source": [
    "def my_function(x):\n",
    "    answer = 42\n",
    "    #debugger.set_trace()\n",
    "    answer += x\n",
    "    return answer\n",
    "\n",
    "my_function(12)"
   ]
  },
  {
   "cell_type": "code",
   "execution_count": 213,
   "metadata": {
    "ExecuteTime": {
     "end_time": "2018-11-28T05:29:11.363593Z",
     "start_time": "2018-11-28T05:29:11.298796Z"
    }
   },
   "outputs": [
    {
     "ename": "NameError",
     "evalue": "name 'X' is not defined",
     "output_type": "error",
     "traceback": [
      "\u001b[0;31m---------------------------------------------------------------------------\u001b[0m",
      "\u001b[0;31mNameError\u001b[0m                                 Traceback (most recent call last)",
      "\u001b[0;32m<ipython-input-213-0d898014faa6>\u001b[0m in \u001b[0;36m<module>\u001b[0;34m()\u001b[0m\n\u001b[1;32m     11\u001b[0m \u001b[0;34m\u001b[0m\u001b[0m\n\u001b[1;32m     12\u001b[0m \u001b[0mmodel\u001b[0m \u001b[0;34m=\u001b[0m \u001b[0mMyModule\u001b[0m\u001b[0;34m(\u001b[0m\u001b[0;34m)\u001b[0m\u001b[0;34m\u001b[0m\u001b[0m\n\u001b[0;32m---> 13\u001b[0;31m \u001b[0my\u001b[0m \u001b[0;34m=\u001b[0m \u001b[0mmodel\u001b[0m\u001b[0;34m(\u001b[0m\u001b[0mX\u001b[0m\u001b[0;34m)\u001b[0m\u001b[0;34m\u001b[0m\u001b[0m\n\u001b[0m\u001b[1;32m     14\u001b[0m \u001b[0;34m\u001b[0m\u001b[0m\n\u001b[1;32m     15\u001b[0m \u001b[0;31m#assert y_.shape == (5, 1), y_.shape\u001b[0m\u001b[0;34m\u001b[0m\u001b[0;34m\u001b[0m\u001b[0m\n",
      "\u001b[0;31mNameError\u001b[0m: name 'X' is not defined"
     ]
    }
   ],
   "source": [
    "class MyModule(nn.Module):\n",
    "    def __init__(self):\n",
    "        super().__init__()\n",
    "        self.lin = nn.Linear(3, 1)\n",
    "    \n",
    "    def forward(self, X):\n",
    "        #set_trace()\n",
    "        x = self.lin(X)\n",
    "        return X\n",
    "\n",
    "    \n",
    "model = MyModule()\n",
    "y = model(X)\n",
    "\n",
    "#assert y_.shape == (5, 1), y_.shape"
   ]
  },
  {
   "cell_type": "markdown",
   "metadata": {},
   "source": [
    "<a id='convolutional_neural_network'></a>\n",
    "# Convolutional Neural Network implementation using MNIST"
   ]
  },
  {
   "cell_type": "code",
   "execution_count": 82,
   "metadata": {},
   "outputs": [],
   "source": [
    "from __future__ import print_function\n",
    "import argparse\n",
    "import torch\n",
    "import torch.nn as nn\n",
    "import torch.nn.functional as F\n",
    "import torch.optim as optim\n",
    "from torchvision import datasets, transforms\n",
    "\n",
    "class Net(nn.Module):\n",
    "    def __init__(self):\n",
    "        super(Net, self).__init__()\n",
    "        self.conv1 = nn.Conv2d(1, 10, kernel_size=5)\n",
    "        self.conv2 = nn.Conv2d(10, 20, kernel_size=5)\n",
    "        self.conv2_drop = nn.Dropout2d()\n",
    "        self.fc1 = nn.Linear(320, 50)\n",
    "        self.fc2 = nn.Linear(50, 10)\n",
    "\n",
    "    def forward(self, x):\n",
    "        x = F.relu(F.max_pool2d(self.conv1(x), 2))\n",
    "        x = F.relu(F.max_pool2d(self.conv2_drop(self.conv2(x)), 2))\n",
    "        x = x.view(-1, 320)\n",
    "        x = F.relu(self.fc1(x))\n",
    "        x = F.dropout(x, training=self.training)\n",
    "        x = self.fc2(x)\n",
    "        return F.log_softmax(x, dim=1)\n",
    "\n",
    "def train(args, model, device, train_loader, optimizer, epoch):\n",
    "    model.train()\n",
    "    for batch_idx, (data, target) in enumerate(train_loader):\n",
    "        data, target = data.to(device), target.to(device)\n",
    "        optimizer.zero_grad()\n",
    "        output = model(data)\n",
    "        loss = F.nll_loss(output, target)\n",
    "        loss.backward()\n",
    "        optimizer.step()\n",
    "        if batch_idx % args.log_interval == 0:\n",
    "            print('Train Epoch: {} [{}/{} ({:.0f}%)]\\tLoss: {:.6f}'.format(\n",
    "                epoch, batch_idx * len(data), len(train_loader.dataset),\n",
    "                100. * batch_idx / len(train_loader), loss.item()))\n",
    "\n",
    "def test(args, model, device, test_loader):\n",
    "    model.eval()\n",
    "    test_loss = 0\n",
    "    correct = 0\n",
    "    with torch.no_grad():\n",
    "        for data, target in test_loader:\n",
    "            data, target = data.to(device), target.to(device)\n",
    "            output = model(data)\n",
    "            test_loss += F.nll_loss(output, target, reduction='sum').item() # sum up batch loss\n",
    "            pred = output.max(1, keepdim=True)[1] # get the index of the max log-probability\n",
    "            correct += pred.eq(target.view_as(pred)).sum().item()\n",
    "\n",
    "    test_loss /= len(test_loader.dataset)\n",
    "    print('\\nTest set: Average loss: {:.4f}, Accuracy: {}/{} ({:.0f}%)\\n'.format(\n",
    "        test_loss, correct, len(test_loader.dataset),\n",
    "        100. * correct / len(test_loader.dataset)))"
   ]
  },
  {
   "cell_type": "markdown",
   "metadata": {},
   "source": [
    "<a id='recurrent_neural_networks'></a>\n",
    "# Recurrent Neural Networks"
   ]
  },
  {
   "cell_type": "markdown",
   "metadata": {},
   "source": [
    "In other types of neural networks, we make the assumption that all inputs are independent of each other, but many real life situations involve outputs that are dependent of the output before it."
   ]
  },
  {
   "cell_type": "markdown",
   "metadata": {},
   "source": [
    "<a id='core_ideas'></a>\n",
    "## Core Ideas"
   ]
  },
  {
   "cell_type": "markdown",
   "metadata": {},
   "source": [
    "1. Allow us to operate over sequences of vectors (in the input and the output) as opposed to normal feed-forward neural networks and convolutional neural networks which require fixed length vectors.\n",
    "2. Are effective in representing conditional memory - next output is determined from the one before (temporal dependencies)."
   ]
  },
  {
   "cell_type": "markdown",
   "metadata": {},
   "source": [
    "<a id='applications'></a>\n",
    "## Applications"
   ]
  },
  {
   "cell_type": "markdown",
   "metadata": {},
   "source": [
    "![title](img/sequences.png)"
   ]
  },
  {
   "cell_type": "markdown",
   "metadata": {},
   "source": [
    "One to many - Image captioning <br>\n",
    "Many to one - Sentiment classification <br>\n",
    "Many to many - Translation (sequence of words -> sequence of words) <br>\n",
    "Many to many (one to one correspondence between input and output) - Video classification on frame level <br>"
   ]
  },
  {
   "cell_type": "markdown",
   "metadata": {},
   "source": [
    "<a id='how_rnns_work'></a>\n",
    "# How RNNs Work"
   ]
  },
  {
   "cell_type": "markdown",
   "metadata": {},
   "source": [
    "<a id='recurrent_neuron'></a>\n",
    "### Recurrent Neuron\n",
    "![title](img/recurrentneuron.png)"
   ]
  },
  {
   "cell_type": "markdown",
   "metadata": {},
   "source": [
    "<a id='recurrence_relation'></a>\n",
    "### Recurrence Relation\n",
    "Each \"cell\" has an internal state that gets updated with each input: <br>\n",
    "$$ \\text{RNN cell:} h_t = \\phi(W_R * h_{t-1} + W_I * x_t + b_h)$$ \n",
    " $$ \\text{Linear Layer:} \\hat{y_t} = g_y(W_{y} * h_t + b_y) $$\n",
    "$ h_t $ = new state <br>\n",
    "$ \\phi $ = Some activation function <br>\n",
    "$ W_{R} $ = Matrix of weights connecting hidden layer to hidden layer <br>\n",
    "$ h_{t-1} $ = Previous hidden state <br>\n",
    "$ W_{I} $ = Matrix of weights connecting input layer to hidden layer <br>\n",
    "$ x_t $ = Input vector at time step t <br>\n",
    "$ b_h $ = Bias vector for hidden layer <br>\n",
    "$ \\hat{y_t} $ = Predicted vector for time step t <br>\n",
    "$ y_t $ = Actual vector for time step t <br>\n",
    "$ g_y $ = Function to get normalized probabilities, softmax $(\\frac {e^{f_k}}{\n",
    "\\sum_{j} e^{f_j}})$<br>\n",
    "$ W_{Y} $ = Matrix of weights connecting hidden layer to output layer <br>\n",
    "$ b_y $ = Bias vector for output layer <br>\n"
   ]
  },
  {
   "cell_type": "markdown",
   "metadata": {},
   "source": [
    "<a id='computation_graph_unrolled'></a>\n",
    "### Computation Graph Unrolled\n",
    "![title](img/unrolled.png) <br>\n",
    "You can think of the hidden state as the the “memory” of the network. It is calculated based on the previous hidden state and the input at the current step."
   ]
  },
  {
   "cell_type": "markdown",
   "metadata": {},
   "source": [
    "<a id='backpropagation_through_time'></a>\n",
    "### Backpropagation Through Time\n",
    "![title](img/cost_unrolled.png) <br>\n",
    "We define our cost function to be cross entropy:\n",
    "$$ C(y, \\hat{y}) = - \\sum_{t} y_t \\log{\\hat{y}_t}$$\n",
    "Backpropagation Through Time is the application of backpropagation  but after the network has been unrolled for all input timesteps. The key difference is that we sum up the gradients for the parameter at each time step. In a traditional neural network we don’t share parameters across layers, so we don’t need to sum anything. <br>"
   ]
  },
  {
   "cell_type": "markdown",
   "metadata": {},
   "source": [
    "We proceed by calculating the gradients of the cost with respect to our parameters $W_I$, $W_R$ and $W_y$ <br>\n",
    "Using the cost at time step 2 as an example: <br>\n",
    "Calculating the gradient for $W_y$ only depends on the values at the current time step <br>\n",
    "$$\\frac{\\partial C_2}{\\partial W_y} =  \\frac{\\partial C_2}{\\partial \\hat{y}_2} * \\frac{\\partial \\hat{y}_2}{\\partial h_2} * \\frac{\\partial h_2}{\\partial W_y} $$ <br>\n",
    "We do the same thing with $W_R$:\n",
    "$$ \\frac{\\partial C_2}{\\partial W_R} = \\frac{\\partial C_2}{\\partial \\hat{y}_2} * \\frac{\\partial \\hat{y}_2}{\\partial h_2} * \\frac{\\partial h_2}{\\partial W_R} $$ <br>\n",
    "However, $h_2 = \\phi(W_R * h_1 + W_I * x_t + b_h)$ which depends on $h_1$ and thus $W_R$. Therefore, we cannot treat $h_2$ as a constant. $W_R$ is used in every step of the output, so we need to backpropagate gradients from t=2 all the way to t=0.\n",
    "$$ \\frac{\\partial C_2}{\\partial W_R} = \\sum_{t=0}^2 \\frac{\\partial C_2}{\\partial \\hat{y}_2} * \\frac{\\partial \\hat{y}_2}{\\partial h_2} * \\frac{\\partial h_2}{\\partial h_t} * \\frac{\\partial h_t}{\\partial W_R} $$<br>\n",
    "The same reasoning applies for $W_I$"
   ]
  },
  {
   "cell_type": "markdown",
   "metadata": {
    "ExecuteTime": {
     "end_time": "2017-12-22T18:56:42.848327Z",
     "start_time": "2017-12-22T18:56:42.680072Z"
    }
   },
   "source": [
    "<a id='vanishing/exploding_gradient'></a>\n",
    "# Vanishing/Exploding Gradient Problem\n",
    "This idea of propagating all the way to time = 0 introduces the issue of vanishing or exploding gradients. The magnitude of the update for the weight matrix is going to scale with the size of weight matrices:\n",
    "$$ \\frac{\\partial C_T}{\\partial W_R} \\propto |W_R|^T * |\\frac{\\partial \\hat{y}}{\\partial h}|^T $$\n",
    "<br>\n",
    "If the recurrent weight is less than 1, then if you want to calculate the gradient at t=100, it will ne nearly 0. Alternatively, if $W_R$ is greater than 1, you will run into the problem of exploding gradients. "
   ]
  },
  {
   "cell_type": "markdown",
   "metadata": {},
   "source": [
    "<a id='rnn_extensions'></a>\n",
    "# RNN Extensions"
   ]
  },
  {
   "cell_type": "markdown",
   "metadata": {},
   "source": [
    "Over the years researchers have developed more sophisticated types of RNNs to deal with some of the shortcomings of the vanilla RNN model.\n",
    "Two of the most popular that deal with the  vanishing/exploding gradient problem while still tracking long-term dependencies effectively are the LSTM and GRU Cells."
   ]
  },
  {
   "cell_type": "markdown",
   "metadata": {},
   "source": [
    "<a id='basic_nlp'></a>\n",
    "# Basic NLP"
   ]
  },
  {
   "cell_type": "markdown",
   "metadata": {},
   "source": [
    "Vocablary - set of unique words in your text"
   ]
  },
  {
   "cell_type": "markdown",
   "metadata": {},
   "source": [
    "![title](img/vocabulary.png)"
   ]
  },
  {
   "cell_type": "markdown",
   "metadata": {},
   "source": [
    "<a id='representation'></a>\n",
    "## Representation"
   ]
  },
  {
   "cell_type": "markdown",
   "metadata": {
    "ExecuteTime": {
     "end_time": "2018-11-28T04:17:03.799834Z",
     "start_time": "2018-11-28T04:17:03.785020Z"
    }
   },
   "source": [
    "We can choose to one hot encode our vectors, however these matrices would be very sparse and have no meaning."
   ]
  },
  {
   "cell_type": "markdown",
   "metadata": {},
   "source": [
    "![title](img/onehot.png)"
   ]
  },
  {
   "cell_type": "markdown",
   "metadata": {},
   "source": [
    "Word embeddings are learned from the corpus we're training on and provide a dense representation of our data with meaning based off of context - the words around it."
   ]
  },
  {
   "cell_type": "markdown",
   "metadata": {
    "ExecuteTime": {
     "end_time": "2018-11-28T11:36:49.927708Z",
     "start_time": "2018-11-28T11:36:49.676492Z"
    }
   },
   "source": [
    "![title](img/embeddingvectors.png)"
   ]
  },
  {
   "cell_type": "markdown",
   "metadata": {},
   "source": [
    "<img src=\"img/vectormath.png\" width=\"500\" height=\"500\">\n"
   ]
  },
  {
   "cell_type": "markdown",
   "metadata": {},
   "source": [
    "![title](img/embeddings.png)"
   ]
  },
  {
   "cell_type": "markdown",
   "metadata": {},
   "source": [
    "Instead of training your own word embedding layer, you can also use pretrained ones such as Word2Vec and Glove"
   ]
  },
  {
   "cell_type": "markdown",
   "metadata": {},
   "source": [
    "<a id='model_dimensions'></a>\n",
    "# Model Dimensions"
   ]
  },
  {
   "cell_type": "markdown",
   "metadata": {},
   "source": [
    "These our what our batches will look like"
   ]
  },
  {
   "cell_type": "markdown",
   "metadata": {},
   "source": [
    "![title](img/batches.png)"
   ]
  },
  {
   "cell_type": "markdown",
   "metadata": {},
   "source": [
    "Our input to the RNN will have shape time steps x batch size x embedding and our output will have shape time steps x batch size x vocabulary size"
   ]
  },
  {
   "cell_type": "markdown",
   "metadata": {},
   "source": [
    "![title](img/output.png)"
   ]
  },
  {
   "cell_type": "markdown",
   "metadata": {},
   "source": [
    "Basically our output will represent the probability of the next word from our vocabulary"
   ]
  },
  {
   "cell_type": "markdown",
   "metadata": {},
   "source": [
    "b: batch size\n",
    "\n",
    "e: embedding size\n",
    "\n",
    "v: vocabuary size\n",
    "\n",
    "h: size of hidden state"
   ]
  },
  {
   "cell_type": "markdown",
   "metadata": {},
   "source": [
    "![title](img/dimensions.png)"
   ]
  },
  {
   "cell_type": "markdown",
   "metadata": {},
   "source": [
    "<a id='shakespeare_generation'></a>\n",
    "# Shakespeare Generation"
   ]
  },
  {
   "cell_type": "code",
   "execution_count": 50,
   "metadata": {
    "ExecuteTime": {
     "end_time": "2018-11-28T03:12:04.899106Z",
     "start_time": "2018-11-28T03:12:04.847964Z"
    }
   },
   "outputs": [],
   "source": [
    "import os\n",
    "import torch\n",
    "\n",
    "class Dictionary(object):\n",
    "    ''' Represents our Vocabulary.'''\n",
    "    def __init__(self):\n",
    "        self.word2idx = {} #Map of words to indices, convert word into its index in vocabulary\n",
    "        self.idx2word = [] #List of all words, can look up word by index\n",
    "\n",
    "    def add_word(self, word):\n",
    "        if word not in self.word2idx:\n",
    "            self.idx2word.append(word)\n",
    "            self.word2idx[word] = len(self.idx2word) - 1\n",
    "        return self.word2idx[word]\n",
    "\n",
    "    def __len__(self):\n",
    "        return len(self.idx2word)\n",
    "\n",
    "class Corpus(object):\n",
    "    def __init__(self, path):\n",
    "        self.dictionary = Dictionary()\n",
    "        #Converting ASCII for characters we want (limited to those in english language)\n",
    "        self.whitelist = [chr(i) for i in range(32, 127)]\n",
    "        \n",
    "        self.train = self.tokenize(os.path.join(path, 'train.txt'))\n",
    "        self.valid = self.tokenize(os.path.join(path, 'valid.txt'))\n",
    "\n",
    "    def tokenize(self, path):\n",
    "        '''Takes the text file and breaks it up into its individual word.'''\n",
    "        assert os.path.exists(path)\n",
    "        # Add words to the dictionary\n",
    "        with open(path, 'r',  encoding=\"utf8\") as f:\n",
    "            tokens = 0\n",
    "            for line in f:\n",
    "                line = ''.join([c for c in line if c in self.whitelist])\n",
    "                words = line.split() + ['<eos>']\n",
    "                tokens += len(words)\n",
    "                for word in words:\n",
    "                    self.dictionary.add_word(word)\n",
    "\n",
    "        # Tokenize file content\n",
    "        with open(path, 'r',  encoding=\"utf8\") as f:\n",
    "            ids = torch.LongTensor(tokens)\n",
    "            token = 0\n",
    "            for line in f:\n",
    "                line = ''.join([c for c in line if c in self.whitelist])\n",
    "                words = line.split() + ['<eos>']\n",
    "                for word in words:\n",
    "                    ids[token] = self.dictionary.word2idx[word]\n",
    "                    token += 1\n",
    "\n",
    "        return ids"
   ]
  },
  {
   "cell_type": "code",
   "execution_count": 51,
   "metadata": {
    "ExecuteTime": {
     "end_time": "2018-11-28T03:23:52.325757Z",
     "start_time": "2018-11-28T03:23:31.818032Z"
    }
   },
   "outputs": [],
   "source": [
    "corpus = Corpus('./data/shakespeare')"
   ]
  },
  {
   "cell_type": "code",
   "execution_count": 52,
   "metadata": {
    "ExecuteTime": {
     "end_time": "2018-11-28T03:23:57.153186Z",
     "start_time": "2018-11-28T03:23:57.148253Z"
    }
   },
   "outputs": [
    {
     "name": "stdout",
     "output_type": "stream",
     "text": [
      "famine\n",
      "47\n"
     ]
    }
   ],
   "source": [
    "print(corpus.dictionary.idx2word[47])\n",
    "print(corpus.dictionary.word2idx['famine'])"
   ]
  },
  {
   "cell_type": "code",
   "execution_count": 63,
   "metadata": {
    "ExecuteTime": {
     "end_time": "2018-11-28T03:24:02.709574Z",
     "start_time": "2018-11-28T03:24:02.704579Z"
    }
   },
   "outputs": [
    {
     "data": {
      "text/plain": [
       "74010"
      ]
     },
     "execution_count": 63,
     "metadata": {},
     "output_type": "execute_result"
    }
   ],
   "source": [
    "#Number of unique words\n",
    "vocab_size = len(corpus.dictionary)\n",
    "vocab_size"
   ]
  },
  {
   "cell_type": "code",
   "execution_count": 10,
   "metadata": {
    "ExecuteTime": {
     "end_time": "2018-11-28T03:24:05.006350Z",
     "start_time": "2018-11-28T03:24:05.001726Z"
    }
   },
   "outputs": [
    {
     "name": "stdout",
     "output_type": "stream",
     "text": [
      "torch.Size([1039900])\n",
      "torch.Size([63420])\n"
     ]
    }
   ],
   "source": [
    "#Number of total words\n",
    "print(corpus.train.size())\n",
    "print(corpus.valid.size())"
   ]
  },
  {
   "cell_type": "code",
   "execution_count": 61,
   "metadata": {
    "ExecuteTime": {
     "end_time": "2018-11-28T10:27:11.366584Z",
     "start_time": "2018-11-28T10:27:11.326745Z"
    }
   },
   "outputs": [],
   "source": [
    "import torch.nn as nn\n",
    "from torch.autograd import Variable\n",
    "import torch.optim as optim\n",
    "class RNNModel(nn.Module):\n",
    "\n",
    "    def __init__(self, vocab_size, embed_size, hidden_size, num_layers, dropout):\n",
    "        \n",
    "        super(RNNModel, self).__init__()\n",
    "        #Embedding layer going from our vocabulary size to defined embedding size\n",
    "        self.encoder = nn.Embedding(vocab_size, embed_size) \n",
    "        #Add dropout layer to prevent overfitting - randomly zero some neurons\n",
    "        self.drop1 = nn.Dropout(dropout)\n",
    "        self.drop2 = nn.Dropout(dropout)\n",
    "        self.rnn = nn.GRU(embed_size, hidden_size, num_layers, dropout=dropout)\n",
    "        self.decoder = nn.Linear(hidden_size, vocab_size)\n",
    "\n",
    "        self.init_weights()\n",
    "\n",
    "        self.hidden_size = hidden_size\n",
    "        self.num_layers = num_layers\n",
    "\n",
    "    def init_weights(self):\n",
    "        initrange = 0.1\n",
    "        #Sample from Uniform distribution\n",
    "        self.encoder.weight.data.uniform_(-initrange, initrange)\n",
    "        self.decoder.bias.data.fill_(0)\n",
    "        self.decoder.weight.data.uniform_(-initrange, initrange)\n",
    "    \n",
    "    def forward(self, input, hidden):\n",
    "        emb = self.drop1(self.encoder(input))\n",
    "        #Pass in current batch and hidden input from previous timestep\n",
    "        output, hidden = self.rnn(emb, hidden)\n",
    "        output = self.drop2(output)\n",
    "        decoded = self.decoder(output.view(output.size(0)*output.size(1), output.size(2)))\n",
    "        # Reshape output to be time steps x batch size x vocabulary size\n",
    "        return decoded.view(output.size(0), output.size(1), decoded.size(1)), hidden\n",
    "\n",
    "    def init_hidden(self, batch_size):\n",
    "        #Gives weights of all the paraemters with everything initialized to 0\n",
    "        weight = next(self.parameters()).data\n",
    "        return Variable(weight.new(self.num_layers, batch_size, self.hidden_size).zero_())"
   ]
  },
  {
   "cell_type": "code",
   "execution_count": 54,
   "metadata": {
    "ExecuteTime": {
     "end_time": "2018-11-28T10:27:11.767890Z",
     "start_time": "2018-11-28T10:27:11.761308Z"
    }
   },
   "outputs": [],
   "source": [
    "def batchify(data, batch_size):\n",
    "    # Find out how many batches we have from our corpus\n",
    "    nbatch = data.size(0) // batch_size\n",
    "    # Return narrow version of tensor that has integer mutiple of batch_siz\n",
    "    data = data.narrow(0, 0, nbatch * batch_size)\n",
    "    # Reshape and transpose the data so that it is nbatch x batch_size\n",
    "    data = data.view(batch_size, -1).t().contiguous()\n",
    "    if torch.cuda.is_available():\n",
    "        data = data.cuda()\n",
    "    return data"
   ]
  },
  {
   "cell_type": "code",
   "execution_count": 55,
   "metadata": {
    "ExecuteTime": {
     "end_time": "2018-11-28T10:27:11.984852Z",
     "start_time": "2018-11-28T10:27:11.973979Z"
    }
   },
   "outputs": [
    {
     "name": "stdout",
     "output_type": "stream",
     "text": [
      "      Once          a\n",
      "      upon       good\n",
      "         a       king\n",
      "      time        and\n",
      "     there          a\n",
      "       was      queen\n"
     ]
    }
   ],
   "source": [
    "dummy_data = \"Once upon a time there was a good king and a queen\"\n",
    "dummy_data_idx = [corpus.dictionary.word2idx[w] for w in dummy_data.split()]\n",
    "dummy_tensor = torch.LongTensor(dummy_data_idx) \n",
    "op = batchify(dummy_tensor, 2)\n",
    "for row in op:\n",
    "    print(\"%10s %10s\" %  (corpus.dictionary.idx2word[row[0]], corpus.dictionary.idx2word[row[1]]))"
   ]
  },
  {
   "cell_type": "code",
   "execution_count": 57,
   "metadata": {
    "ExecuteTime": {
     "end_time": "2018-11-28T10:27:12.265392Z",
     "start_time": "2018-11-28T10:27:12.257022Z"
    }
   },
   "outputs": [],
   "source": [
    "bs_train = 20       # batch size for training set\n",
    "bs_valid = 10       # batch size for validation set\n",
    "bptt_size = 35      # number of times to unroll the graph for back propagation through time\n",
    "clip = 0.25         # gradient clipping to check exploding gradient\n",
    "\n",
    "embed_size = 200    # size of the embedding vector\n",
    "hidden_size = 200   # size of the hidden state in the RNN \n",
    "num_layers = 2      # number of RNN layers to use\n",
    "dropout_pct = 0.5   # %age of neurons to drop out for regularization"
   ]
  },
  {
   "cell_type": "code",
   "execution_count": 58,
   "metadata": {
    "ExecuteTime": {
     "end_time": "2018-11-28T10:27:12.550054Z",
     "start_time": "2018-11-28T10:27:12.523416Z"
    }
   },
   "outputs": [],
   "source": [
    "train_data = batchify(corpus.train, bs_train)\n",
    "val_data = batchify(corpus.valid, bs_valid)"
   ]
  },
  {
   "cell_type": "code",
   "execution_count": 59,
   "metadata": {
    "ExecuteTime": {
     "end_time": "2018-11-28T10:27:12.763114Z",
     "start_time": "2018-11-28T10:27:12.754640Z"
    }
   },
   "outputs": [
    {
     "data": {
      "text/plain": [
       "torch.Size([51995, 20])"
      ]
     },
     "execution_count": 59,
     "metadata": {},
     "output_type": "execute_result"
    }
   ],
   "source": [
    "#20 sequences of 51995\n",
    "train_data.shape"
   ]
  },
  {
   "cell_type": "code",
   "execution_count": 64,
   "metadata": {
    "ExecuteTime": {
     "end_time": "2018-11-28T10:27:13.608511Z",
     "start_time": "2018-11-28T10:27:12.980524Z"
    }
   },
   "outputs": [],
   "source": [
    "model = RNNModel(vocab_size, embed_size, hidden_size, num_layers, dropout_pct)"
   ]
  },
  {
   "cell_type": "code",
   "execution_count": 18,
   "metadata": {
    "ExecuteTime": {
     "end_time": "2018-11-28T10:27:13.613137Z",
     "start_time": "2018-11-28T10:27:13.610079Z"
    },
    "collapsed": true
   },
   "outputs": [],
   "source": [
    "criterion = nn.CrossEntropyLoss()"
   ]
  },
  {
   "cell_type": "code",
   "execution_count": 65,
   "metadata": {
    "ExecuteTime": {
     "end_time": "2018-11-28T10:27:13.713950Z",
     "start_time": "2018-11-28T10:27:13.617454Z"
    }
   },
   "outputs": [],
   "source": [
    "def get_batch(source, i):\n",
    "    seq_len = min(bptt_size, len(source) - 1 - i)\n",
    "    data = Variable(source[i:i+seq_len])\n",
    "    target = Variable(source[i+1:i+1+seq_len].view(-1))\n",
    "    if torch.cuda.is_available():\n",
    "        data = data.cuda()\n",
    "        target = target.cuda()\n",
    "    return data, target"
   ]
  },
  {
   "cell_type": "code",
   "execution_count": 66,
   "metadata": {
    "ExecuteTime": {
     "end_time": "2018-11-28T10:27:13.749528Z",
     "start_time": "2018-11-28T10:27:13.745501Z"
    }
   },
   "outputs": [],
   "source": [
    "data, target = get_batch(train_data, 1)"
   ]
  },
  {
   "cell_type": "code",
   "execution_count": 67,
   "metadata": {
    "ExecuteTime": {
     "end_time": "2018-11-28T10:27:13.967695Z",
     "start_time": "2018-11-28T10:27:13.963456Z"
    }
   },
   "outputs": [
    {
     "data": {
      "text/plain": [
       "torch.Size([35, 20])"
      ]
     },
     "execution_count": 67,
     "metadata": {},
     "output_type": "execute_result"
    }
   ],
   "source": [
    "#20 sequences of 35 words\n",
    "data.size()"
   ]
  },
  {
   "cell_type": "code",
   "execution_count": 22,
   "metadata": {
    "ExecuteTime": {
     "end_time": "2018-11-28T10:27:14.175125Z",
     "start_time": "2018-11-28T10:27:14.170871Z"
    }
   },
   "outputs": [
    {
     "data": {
      "text/plain": [
       "torch.Size([700])"
      ]
     },
     "execution_count": 22,
     "metadata": {},
     "output_type": "execute_result"
    }
   ],
   "source": [
    "#Next 20 * 35 words in our corpus\n",
    "target.shape"
   ]
  },
  {
   "cell_type": "code",
   "execution_count": 70,
   "metadata": {
    "ExecuteTime": {
     "end_time": "2018-11-28T10:27:14.815666Z",
     "start_time": "2018-11-28T10:27:14.812790Z"
    }
   },
   "outputs": [],
   "source": [
    "# for sequence in data.t():\n",
    "#     print(\"New Sequence ----\")\n",
    "#     for word in sequence:\n",
    "#         print (corpus.dictionary.idx2word[word])"
   ]
  },
  {
   "cell_type": "code",
   "execution_count": 71,
   "metadata": {
    "ExecuteTime": {
     "end_time": "2018-11-28T10:27:15.235324Z",
     "start_time": "2018-11-28T10:27:15.231719Z"
    }
   },
   "outputs": [],
   "source": [
    "# for word in target:\n",
    "#     print(corpus.dictionary.idx2word[word])"
   ]
  },
  {
   "cell_type": "code",
   "execution_count": 25,
   "metadata": {
    "ExecuteTime": {
     "end_time": "2018-11-28T10:27:15.565505Z",
     "start_time": "2018-11-28T10:27:15.539600Z"
    },
    "collapsed": true
   },
   "outputs": [],
   "source": [
    "def train(data_source, lr):\n",
    "    # Turn on training mode which enables dropout.\n",
    "    model.train()\n",
    "    total_loss = 0\n",
    "    #Copy of all the model parameters but initialized to 0\n",
    "    hidden = model.init_hidden(bs_train)\n",
    "    optimizer = optim.Adam(model.parameters(), lr=lr)\n",
    "    \n",
    "    for batch, i in enumerate(range(0, data_source.size(0) - 1, bptt_size)):\n",
    "        \n",
    "        data, targets = get_batch(data_source, i)\n",
    "\n",
    "        # This basically \"detaches\" the hidden state from the one from the previous iteration by creating a new Variable\n",
    "        # If we didn't, the model would try backpropagating all the way to start of the dataset.\n",
    "        hidden = Variable(hidden.data)\n",
    "        \n",
    "        if torch.cuda.is_available():\n",
    "            hidden = hidden.cuda()\n",
    "        \n",
    "        # model.zero_grad()\n",
    "        optimizer.zero_grad()\n",
    "        \n",
    "        #Feed in data generated from batch along with hidden state copied over from previous iteration.\n",
    "        output, hidden = model(data, hidden)\n",
    "        loss = criterion(output.view(-1, vocab_size), targets)\n",
    "        loss.backward()\n",
    "\n",
    "        # `clip_grad_norm` helps prevent the exploding gradient problem in RNNs / LSTMs.\n",
    "        torch.nn.utils.clip_grad_norm(model.parameters(), clip)\n",
    "        \n",
    "        optimizer.step()\n",
    "        total_loss += len(data) * loss.data\n",
    "        \n",
    "    return total_loss[0] / len(data_source)"
   ]
  },
  {
   "cell_type": "code",
   "execution_count": 26,
   "metadata": {
    "ExecuteTime": {
     "end_time": "2018-11-28T10:27:15.802927Z",
     "start_time": "2018-11-28T10:27:15.787320Z"
    },
    "collapsed": true
   },
   "outputs": [],
   "source": [
    "def evaluate(data_source):\n",
    "    # Turn on evaluation mode which disables dropout.\n",
    "    model.eval()\n",
    "    total_loss = 0\n",
    "    hidden = model.init_hidden(bs_valid)\n",
    "    \n",
    "    for i in range(0, data_source.size(0) - 1, bptt_size):\n",
    "        data, targets = get_batch(data_source, i)\n",
    "        \n",
    "        if torch.cuda.is_available():\n",
    "            hidden = hidden.cuda()\n",
    "            \n",
    "        output, hidden = model(data, hidden)\n",
    "        output_flat = output.view(-1, vocab_size)\n",
    "        \n",
    "        total_loss += len(data) * criterion(output_flat, targets).data\n",
    "        hidden = Variable(hidden.data)\n",
    "        \n",
    "    return total_loss[0] / len(data_source)"
   ]
  },
  {
   "cell_type": "code",
   "execution_count": 27,
   "metadata": {
    "ExecuteTime": {
     "end_time": "2018-11-28T10:27:16.220346Z",
     "start_time": "2018-11-28T10:27:16.216801Z"
    },
    "collapsed": true
   },
   "outputs": [],
   "source": [
    "# Loop over epochs.\n",
    "best_val_loss = None"
   ]
  },
  {
   "cell_type": "code",
   "execution_count": 28,
   "metadata": {
    "ExecuteTime": {
     "end_time": "2018-11-28T10:27:16.608232Z",
     "start_time": "2018-11-28T10:27:16.599221Z"
    },
    "collapsed": true
   },
   "outputs": [],
   "source": [
    "def run(epochs, lr):\n",
    "    global best_val_loss\n",
    "    \n",
    "    for epoch in range(0, epochs):\n",
    "        train_loss = train(train_data, lr)\n",
    "        val_loss = evaluate(val_data)\n",
    "        print(\"Train Loss: \", train_loss, \"Valid Loss: \", val_loss)\n",
    "\n",
    "        if not best_val_loss or val_loss < best_val_loss:\n",
    "            best_val_loss = val_loss\n",
    "            torch.save(model.state_dict(), \"./4.model.pth\")"
   ]
  },
  {
   "cell_type": "code",
   "execution_count": 21,
   "metadata": {
    "ExecuteTime": {
     "end_time": "2018-11-28T10:27:25.833518Z",
     "start_time": "2018-11-28T10:27:16.984347Z"
    },
    "collapsed": true
   },
   "outputs": [],
   "source": [
    "#run(10, 0.001)"
   ]
  },
  {
   "cell_type": "code",
   "execution_count": 73,
   "metadata": {
    "ExecuteTime": {
     "end_time": "2018-11-28T10:12:07.772629Z",
     "start_time": "2018-11-28T10:12:07.767782Z"
    }
   },
   "outputs": [],
   "source": [
    "#Number of words we want to generate\n",
    "num_words = 200\n",
    "#In the evaluate function, every time a prediction is made the outputs are divided by the \"temperature\" argument \n",
    "#Using a higher number makes all actions more equally likely, and thus gives us \"more random\" outputs.\n",
    "#Using a lower value (less than 1) makes high probabilities contribute more. \n",
    "temperature = 1"
   ]
  },
  {
   "cell_type": "code",
   "execution_count": 72,
   "metadata": {
    "ExecuteTime": {
     "end_time": "2018-11-28T10:12:08.765994Z",
     "start_time": "2018-11-28T10:12:08.242401Z"
    }
   },
   "outputs": [
    {
     "data": {
      "text/plain": [
       "RNNModel(\n",
       "  (encoder): Embedding(74010, 200)\n",
       "  (drop1): Dropout(p=0.5)\n",
       "  (drop2): Dropout(p=0.5)\n",
       "  (rnn): GRU(200, 200, num_layers=2, dropout=0.5)\n",
       "  (decoder): Linear(in_features=200, out_features=74010, bias=True)\n",
       ")"
      ]
     },
     "execution_count": 72,
     "metadata": {},
     "output_type": "execute_result"
    }
   ],
   "source": [
    "model = RNNModel(vocab_size, embed_size, hidden_size, num_layers, dropout_pct)\n",
    "model.load_state_dict(torch.load('./4.model.pth', map_location=lambda storage, loc: storage))\n",
    "if torch.cuda.is_available():\n",
    "    model.cuda()\n",
    "    \n",
    "model.eval()"
   ]
  },
  {
   "cell_type": "code",
   "execution_count": 74,
   "metadata": {
    "ExecuteTime": {
     "end_time": "2018-11-28T10:12:10.714476Z",
     "start_time": "2018-11-28T10:12:08.811481Z"
    }
   },
   "outputs": [
    {
     "name": "stderr",
     "output_type": "stream",
     "text": [
      "/Users/calvin/anaconda3/lib/python3.6/site-packages/ipykernel_launcher.py:3: UserWarning: volatile was removed and now has no effect. Use `with torch.no_grad():` instead.\n",
      "  This is separate from the ipykernel package so we can avoid doing imports until\n"
     ]
    },
    {
     "name": "stdout",
     "output_type": "stream",
     "text": [
      "To angry senses, \n",
      "And shall. You well, \n",
      "With this highly spread our himself gave him, \n",
      "Your blackness sweet strange; for a rest; \n",
      "You give us bad in an new smiling, \n",
      "coctus! pardon the bow and what fatal parliament \n",
      "And make a purpose. Thou't bring us once to DAUPHIN, \n",
      "The handling to dost comes! \n",
      "Or Caesar to measures sufficit. \n",
      "The gods won; I should be lies to me, \n",
      "His words left on a eye, and La then \n",
      "As as an PEDRO. \n",
      "Your love shall be a night! theres given me us? \n",
      "Exeunt before and and with the BOTTOM. \n",
      "SECOND MURDERER. What was our most matter that of \n",
      "France were a thing by most all short Paris What, of his \n",
      "Hopeless \n",
      "Percy, such it as this husband to you. \n",
      "FALSTAFF. How now, her pagan here for them! Out of mine Cardinal, this need in \n",
      "this come to preserve ground, as that thy wouldst please you about the own man, \n",
      "and seven night for the metal entertain me to cold knowledge or the \n",
      "trod of those was beginning in the pains of this "
     ]
    }
   ],
   "source": [
    "hidden = model.init_hidden(1)\n",
    "idx = corpus.dictionary.word2idx['To']\n",
    "input = Variable(torch.LongTensor([[idx]]).long(), volatile=True)\n",
    "\n",
    "if torch.cuda.is_available():\n",
    "    input.data = input.data.cuda()\n",
    "    \n",
    "#Print out first word because model will only start printing the next word\n",
    "print(corpus.dictionary.idx2word[idx], '', end='')\n",
    "\n",
    "for i in range(num_words):\n",
    "    output, hidden = model(input, hidden)\n",
    "    word_weights = output.squeeze().data.div(temperature).exp().cpu()\n",
    "    #Creates a Multinomial distribution based off the inputs of word_weights (will automatically normalize to 1)\n",
    "    # and sample from it\n",
    "    word_idx = torch.multinomial(word_weights, 1)[0]\n",
    "    input.data.fill_(word_idx)\n",
    "    word = corpus.dictionary.idx2word[word_idx]\n",
    "\n",
    "    if word == '<eos>':\n",
    "        print('')\n",
    "    else:\n",
    "        print(word + ' ', end='')"
   ]
  },
  {
   "cell_type": "markdown",
   "metadata": {
    "collapsed": true
   },
   "source": [
    "# Further Reading"
   ]
  },
  {
   "cell_type": "markdown",
   "metadata": {},
   "source": [
    "https://pytorch.org/tutorials/beginner/deep_learning_60min_blitz.html"
   ]
  }
 ],
 "metadata": {
  "kernelspec": {
   "display_name": "Python 3",
   "language": "python",
   "name": "python3"
  },
  "language_info": {
   "codemirror_mode": {
    "name": "ipython",
    "version": 3
   },
   "file_extension": ".py",
   "mimetype": "text/x-python",
   "name": "python",
   "nbconvert_exporter": "python",
   "pygments_lexer": "ipython3",
   "version": "3.6.6"
  }
 },
 "nbformat": 4,
 "nbformat_minor": 2
}
